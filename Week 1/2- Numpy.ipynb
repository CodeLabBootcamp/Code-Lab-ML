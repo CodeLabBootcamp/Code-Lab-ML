{
  "nbformat": 4,
  "nbformat_minor": 0,
  "metadata": {
    "kernelspec": {
      "display_name": "Python 3",
      "language": "python",
      "name": "python3"
    },
    "language_info": {
      "codemirror_mode": {
        "name": "ipython",
        "version": 3
      },
      "file_extension": ".py",
      "mimetype": "text/x-python",
      "name": "python",
      "nbconvert_exporter": "python",
      "pygments_lexer": "ipython3",
      "version": "3.7.4"
    },
    "pycharm": {
      "stem_cell": {
        "cell_type": "raw",
        "metadata": {
          "collapsed": false
        },
        "source": []
      }
    },
    "colab": {
      "name": "Numpy.ipynb",
      "provenance": [],
      "collapsed_sections": []
    }
  },
  "cells": [
    {
      "cell_type": "markdown",
      "metadata": {
        "id": "K1LGPsaehJdf"
      },
      "source": [
        "# Numpy\n",
        "\n",
        "<!--<badge>--><a href=\"https://colab.research.google.com/github/CodeLabBootcamp/Code-Lab-ML/blob/main/Week 1/2- Numpy.ipynb\" target=\"_parent\"><img src=\"https://colab.research.google.com/assets/colab-badge.svg\" alt=\"Open In Colab\"/></a><!--</badge>-->\n",
        "\n",
        "Numpy (http://www.numpy.org/) is a Python software library providing support for the creation and manipulation of mult-dimensional arrays. These notes provide a brief overview of NumPy's features. More detail can be found in the NumPy Quickstart Tutorial.\n",
        "\n",
        "*  https://docs.scipy.org/doc/numpy/user/quickstart.html"
      ]
    },
    {
      "cell_type": "markdown",
      "metadata": {
        "id": "LhFdJ57WA3oZ"
      },
      "source": [
        "Since Numpy is a 3rd party library, we need to install it first. using `!` in the beginning of a cell runs the command using the terminal instead of python, we use `pip` which is Python's package manager to install.\n"
      ]
    },
    {
      "cell_type": "code",
      "metadata": {
        "colab": {
          "base_uri": "https://localhost:8080/"
        },
        "id": "geO9lSo7A0L3",
        "outputId": "d911de2f-4aa4-470e-cba1-828ba0119627"
      },
      "source": [
        "!pip install numpy"
      ],
      "execution_count": 2,
      "outputs": [
        {
          "output_type": "stream",
          "text": [
            "Requirement already satisfied: numpy in /usr/local/lib/python3.6/dist-packages (1.19.4)\n"
          ],
          "name": "stdout"
        }
      ]
    },
    {
      "cell_type": "markdown",
      "metadata": {
        "id": "VjjhnMUHhJdg"
      },
      "source": [
        "## NumPy Arrays\n",
        "\n",
        "The fundamental data type defined by NumPy is the `ndarray`, or multi-dimensional array, which itself defines several fields, among them: \n",
        "\n",
        "  * `ndarray.ndim` the number of dimensions defined by the array. \n",
        "  * `ndarray.shape`, a tuple of integers indicating the cardinality of each dimension. \n",
        "  * `ndarray.size`, the number of elements in the array. \n",
        "  * `ndarray.dtype`, the data type of the array elements (e.g., ints, floats, etc. ). \n"
      ]
    },
    {
      "cell_type": "markdown",
      "metadata": {
        "id": "OcudhJxahJdg"
      },
      "source": [
        "## Creating Arrays\n",
        "\n",
        "There are a number of way to create a new array, including arrays of 0s and 1s. There are also ways of creating new arrays by reshaping existing ones. "
      ]
    },
    {
      "cell_type": "code",
      "metadata": {
        "id": "LCNT3OPAhJdg",
        "colab": {
          "base_uri": "https://localhost:8080/"
        },
        "outputId": "82acc7e3-aa83-4b43-85df-7f0e70633a07"
      },
      "source": [
        "import numpy as np # this is a third party library and needs to be installed first before importing it\n",
        "import time # this is a built in library, you don't need to install it. We will use it lates to measure the difference between running operations on lists vs numpy vectors\n",
        "\n",
        "# We define this function to quickly show the different properties of a Numpy array\n",
        "def describe_it(ar):\n",
        "    \"\"\"Print out a summary of an array.\"\"\"\n",
        "    print(f'dimensions: {ar.ndim}')\n",
        "    print(f'shape: {ar.shape}')\n",
        "    print(f'size: {ar.size}')\n",
        "    print(f'dtype: {ar.dtype}')\n",
        "\n",
        "line1 = [1,2,3]\n",
        "line2 = [4,5,6]\n",
        "\n",
        "array1 = np.array([line1,line2,line2]) # create a 2 x 3 array from the two lines. \n",
        "\n",
        "array2 = np.array((1,2,3,4,5), dtype=np.float64)  # create a 1x5 arrray of 64 bit floats. \n",
        "\n",
        "array3 = np.ones((2,2))  # create a 2x2 arrray of ones (floats, by default).\n",
        "\n",
        "array4 = np.zeros((2,5), dtype=np.int16)  # create a 2x5 arrray of integer zeros. \n",
        "\n",
        "array5 = np.arange(10) # create an ndarray of 10 elements (0-9)\n",
        "\n",
        "array6 = np.arange(0, 10, 0.5) # create an ndarray of 0 to 10 with step size of 0.5\n",
        "\n",
        "array7 = np.linspace(0, 30, 10) # create an ndarray of 10 numbers in range [0,30] \n",
        "\n",
        "array8 = np.random.rand(2,3) # create a 2x3 array with random numbers taken from uniform dist. [0,1]\n",
        "\n",
        "\n",
        "array9 =array4.reshape(1,10) # reshape array 4 into 1 row of 10. \n",
        "\n",
        "\n",
        "array10=np.ones_like(array9) #creat an array of ones have the same shape of array9\n",
        "\n",
        "array11=np.full(shape=(2,2,6),fill_value=8) #creat an array with shape of 2*2*6 and full it with 8\n",
        "array12=np.eye(N=4) # creat 2-D array with ones on the diagonal and zeros elsewhere\n",
        "\n",
        "# we're putting them in an array to print them all at once\n",
        "arrays = [array1, array2, array3, array4, array5, array6, array7, array8, array9,array10,array11,array12]\n",
        "\n",
        "for i in range(len(arrays)):\n",
        "    array = arrays[i]\n",
        "    print(f'Array {i}:')\n",
        "    print('-'*40)\n",
        "    print(array)\n",
        "    describe_it(array)\n",
        "    print('\\n')\n",
        " "
      ],
      "execution_count": 3,
      "outputs": [
        {
          "output_type": "stream",
          "text": [
            "Array 0:\n",
            "----------------------------------------\n",
            "[[1 2 3]\n",
            " [4 5 6]\n",
            " [4 5 6]]\n",
            "dimensions: 2\n",
            "shape: (3, 3)\n",
            "size: 9\n",
            "dtype: int64\n",
            "\n",
            "\n",
            "Array 1:\n",
            "----------------------------------------\n",
            "[1. 2. 3. 4. 5.]\n",
            "dimensions: 1\n",
            "shape: (5,)\n",
            "size: 5\n",
            "dtype: float64\n",
            "\n",
            "\n",
            "Array 2:\n",
            "----------------------------------------\n",
            "[[1. 1.]\n",
            " [1. 1.]]\n",
            "dimensions: 2\n",
            "shape: (2, 2)\n",
            "size: 4\n",
            "dtype: float64\n",
            "\n",
            "\n",
            "Array 3:\n",
            "----------------------------------------\n",
            "[[0 0 0 0 0]\n",
            " [0 0 0 0 0]]\n",
            "dimensions: 2\n",
            "shape: (2, 5)\n",
            "size: 10\n",
            "dtype: int16\n",
            "\n",
            "\n",
            "Array 4:\n",
            "----------------------------------------\n",
            "[0 1 2 3 4 5 6 7 8 9]\n",
            "dimensions: 1\n",
            "shape: (10,)\n",
            "size: 10\n",
            "dtype: int64\n",
            "\n",
            "\n",
            "Array 5:\n",
            "----------------------------------------\n",
            "[0.  0.5 1.  1.5 2.  2.5 3.  3.5 4.  4.5 5.  5.5 6.  6.5 7.  7.5 8.  8.5\n",
            " 9.  9.5]\n",
            "dimensions: 1\n",
            "shape: (20,)\n",
            "size: 20\n",
            "dtype: float64\n",
            "\n",
            "\n",
            "Array 6:\n",
            "----------------------------------------\n",
            "[ 0.          3.33333333  6.66666667 10.         13.33333333 16.66666667\n",
            " 20.         23.33333333 26.66666667 30.        ]\n",
            "dimensions: 1\n",
            "shape: (10,)\n",
            "size: 10\n",
            "dtype: float64\n",
            "\n",
            "\n",
            "Array 7:\n",
            "----------------------------------------\n",
            "[[0.56099157 0.94440942 0.42388583]\n",
            " [0.9737828  0.50486484 0.78362794]]\n",
            "dimensions: 2\n",
            "shape: (2, 3)\n",
            "size: 6\n",
            "dtype: float64\n",
            "\n",
            "\n",
            "Array 8:\n",
            "----------------------------------------\n",
            "[[0 0 0 0 0 0 0 0 0 0]]\n",
            "dimensions: 2\n",
            "shape: (1, 10)\n",
            "size: 10\n",
            "dtype: int16\n",
            "\n",
            "\n",
            "Array 9:\n",
            "----------------------------------------\n",
            "[[1 1 1 1 1 1 1 1 1 1]]\n",
            "dimensions: 2\n",
            "shape: (1, 10)\n",
            "size: 10\n",
            "dtype: int16\n",
            "\n",
            "\n",
            "Array 10:\n",
            "----------------------------------------\n",
            "[[[8 8 8 8 8 8]\n",
            "  [8 8 8 8 8 8]]\n",
            "\n",
            " [[8 8 8 8 8 8]\n",
            "  [8 8 8 8 8 8]]]\n",
            "dimensions: 3\n",
            "shape: (2, 2, 6)\n",
            "size: 24\n",
            "dtype: int64\n",
            "\n",
            "\n",
            "Array 11:\n",
            "----------------------------------------\n",
            "[[1. 0. 0. 0.]\n",
            " [0. 1. 0. 0.]\n",
            " [0. 0. 1. 0.]\n",
            " [0. 0. 0. 1.]]\n",
            "dimensions: 2\n",
            "shape: (4, 4)\n",
            "size: 16\n",
            "dtype: float64\n",
            "\n",
            "\n"
          ],
          "name": "stdout"
        }
      ]
    },
    {
      "cell_type": "markdown",
      "metadata": {
        "id": "U3gvj4b6hJdi"
      },
      "source": [
        "A numpy array has a single data type for all its elements. E.g., it is not possible to create an array holding values of both `int` and `str`. However, it is possible to create an array using values of different types. If the values are all numerical, the NumPy might be able to use a common numerical datatype. The use of strings will results in an array consisting entirely of strings. "
      ]
    },
    {
      "cell_type": "code",
      "metadata": {
        "id": "-PBwXhf-hJdi",
        "colab": {
          "base_uri": "https://localhost:8080/"
        },
        "outputId": "973bb50c-a521-4352-b48d-97a984547bf5"
      },
      "source": [
        "data = np.array([1,2])\n",
        "print('\\nArray 1:')\n",
        "for i in data:\n",
        "    print(i,type(i))\n",
        "    \n",
        "data = np.array([1,2.0])\n",
        "print('\\nArray 2:')\n",
        "for i in data:\n",
        "    print(i,type(i))\n",
        "\n",
        "data = np.array([1,\"2\"])\n",
        "print('\\nArray 3:')\n",
        "for i in data:\n",
        "    print(i,type(i))\n"
      ],
      "execution_count": 4,
      "outputs": [
        {
          "output_type": "stream",
          "text": [
            "\n",
            "Array 1:\n",
            "1 <class 'numpy.int64'>\n",
            "2 <class 'numpy.int64'>\n",
            "\n",
            "Array 2:\n",
            "1.0 <class 'numpy.float64'>\n",
            "2.0 <class 'numpy.float64'>\n",
            "\n",
            "Array 3:\n",
            "1 <class 'numpy.str_'>\n",
            "2 <class 'numpy.str_'>\n"
          ],
          "name": "stdout"
        }
      ]
    },
    {
      "cell_type": "markdown",
      "metadata": {
        "id": "lnyYuR2_hJdj"
      },
      "source": [
        "### Arithmetic Operations\n",
        "\n",
        "Many basic arithmetic operations have been defined for arrays."
      ]
    },
    {
      "cell_type": "code",
      "metadata": {
        "id": "h9DHQRGRhJdj",
        "colab": {
          "base_uri": "https://localhost:8080/"
        },
        "outputId": "97c476b3-7ccd-4681-ea97-3e5a0e292851"
      },
      "source": [
        "a = np.array([1,2,3,4,5])\n",
        "b = np.array([1.0,0.0,1.0,0.0,1.0])\n",
        "\n",
        "print('a + b:', a + b)    # element-wise addition\n",
        "print('a - b:', a - b)    # element-wise subtraction\n",
        "print('a * b:', a * b)    # element-wise product\n",
        "print('a / b:', b / a)    # element-wise division\n",
        "print('-'*40)\n",
        "\n",
        "print('a + 10:', a + 10)   # scalar addition\n",
        "print('a - 10:',a - 10)   # scalar subtraction\n",
        "print('a * 10:',a * 10)   # scalar product\n",
        "print('a / 10:',a / 10)   # scalar division\n",
        "print('a ** 10:',a ** 2)   # scalar exponentiation\n",
        "\n",
        "print('-'*40)\n",
        "c = np.array([[1], [2], [3], [4], [5]])\n",
        "print('a.c:',a.dot(c)) # dot product of a and c. \n",
        "\n",
        "print('-'*40,'\\nstatistics over whole array (all elements)')\n",
        "\n",
        "print('c min', c.min())\n",
        "print('c max', c.max())\n",
        "print('c sum', c.sum())\n",
        "print('c mean', c.mean())\n",
        "\n",
        "print('-'*40,'\\nstatistics by axis')\n",
        "d = np.array([[10,20], [30,40], [50,60], [70,80]])\n",
        "\n",
        "print('d min (columns)', d.min(axis =0))\n",
        "print('d min (rows)', d.min(axis =1))\n",
        "print('d max (columns)', d.max(axis =0))\n",
        "print('d max (rows)', d.max(axis =1))\n",
        "print('d sum (columns)', d.sum(axis =0))\n",
        "print('d sum (rows)', d.sum(axis =1))\n",
        "print('d mean (columns)', d.mean(axis =0))\n",
        "print('d mean (rows)', d.mean(axis =1))\n",
        "\n"
      ],
      "execution_count": 5,
      "outputs": [
        {
          "output_type": "stream",
          "text": [
            "a + b: [2. 2. 4. 4. 6.]\n",
            "a - b: [0. 2. 2. 4. 4.]\n",
            "a * b: [1. 0. 3. 0. 5.]\n",
            "a / b: [1.         0.         0.33333333 0.         0.2       ]\n",
            "----------------------------------------\n",
            "a + 10: [11 12 13 14 15]\n",
            "a - 10: [-9 -8 -7 -6 -5]\n",
            "a * 10: [10 20 30 40 50]\n",
            "a / 10: [0.1 0.2 0.3 0.4 0.5]\n",
            "a ** 10: [ 1  4  9 16 25]\n",
            "----------------------------------------\n",
            "a.c: [55]\n",
            "---------------------------------------- \n",
            "statistics over whole array (all elements)\n",
            "c min 1\n",
            "c max 5\n",
            "c sum 15\n",
            "c mean 3.0\n",
            "---------------------------------------- \n",
            "statistics by axis\n",
            "d min (columns) [10 20]\n",
            "d min (rows) [10 30 50 70]\n",
            "d max (columns) [70 80]\n",
            "d max (rows) [20 40 60 80]\n",
            "d sum (columns) [160 200]\n",
            "d sum (rows) [ 30  70 110 150]\n",
            "d mean (columns) [40. 50.]\n",
            "d mean (rows) [15. 35. 55. 75.]\n"
          ],
          "name": "stdout"
        }
      ]
    },
    {
      "cell_type": "markdown",
      "metadata": {
        "id": "gmt6myGXhJdj"
      },
      "source": [
        "\n",
        "## Indexing and Slicing\n",
        "\n",
        "We can access individual elements of arrays as well as \"slices\" using square brackets and `:`. "
      ]
    },
    {
      "cell_type": "code",
      "metadata": {
        "id": "8Iwg8BJ9hJdj",
        "colab": {
          "base_uri": "https://localhost:8080/"
        },
        "outputId": "815e066c-d741-4f78-b78b-7f880ca001f4"
      },
      "source": [
        "a =  np.arange(50).reshape(5,10) \n",
        "\n",
        "print('-'*40)\n",
        "print(\"array:\")\n",
        "print(a)\n",
        "print('-'*40)\n",
        "print(\"first row:\")\n",
        "print(a[0]) \n",
        "print('-'*40)\n",
        "print(\"rows 2-4\")\n",
        "print(a[2:]) \n",
        "print('-'*40)\n",
        "print(\"2nd element of 2nd row\")\n",
        "print(a[1,1])\n",
        "print('-'*40)\n",
        "print(\"every element of column 4\")\n",
        "print(a[:,4])\n",
        "print('-'*40)\n",
        "print(\"every element of columns 2 and 3\")\n",
        "print(a[:,2:4])\n",
        "print('-'*40)\n",
        "print('boolen indexing every element bigger that a threshold')\n",
        "print(a[a>10])"
      ],
      "execution_count": 6,
      "outputs": [
        {
          "output_type": "stream",
          "text": [
            "----------------------------------------\n",
            "array:\n",
            "[[ 0  1  2  3  4  5  6  7  8  9]\n",
            " [10 11 12 13 14 15 16 17 18 19]\n",
            " [20 21 22 23 24 25 26 27 28 29]\n",
            " [30 31 32 33 34 35 36 37 38 39]\n",
            " [40 41 42 43 44 45 46 47 48 49]]\n",
            "----------------------------------------\n",
            "first row:\n",
            "[0 1 2 3 4 5 6 7 8 9]\n",
            "----------------------------------------\n",
            "rows 2-4\n",
            "[[20 21 22 23 24 25 26 27 28 29]\n",
            " [30 31 32 33 34 35 36 37 38 39]\n",
            " [40 41 42 43 44 45 46 47 48 49]]\n",
            "----------------------------------------\n",
            "2nd element of 2nd row\n",
            "11\n",
            "----------------------------------------\n",
            "every element of column 4\n",
            "[ 4 14 24 34 44]\n",
            "----------------------------------------\n",
            "every element of columns 2 and 3\n",
            "[[ 2  3]\n",
            " [12 13]\n",
            " [22 23]\n",
            " [32 33]\n",
            " [42 43]]\n",
            "----------------------------------------\n",
            "boolen indexing every element bigger that a threshold\n",
            "[11 12 13 14 15 16 17 18 19 20 21 22 23 24 25 26 27 28 29 30 31 32 33 34\n",
            " 35 36 37 38 39 40 41 42 43 44 45 46 47 48 49]\n"
          ],
          "name": "stdout"
        }
      ]
    },
    {
      "cell_type": "code",
      "metadata": {
        "id": "gDIlTzd9hJdk",
        "colab": {
          "base_uri": "https://localhost:8080/"
        },
        "outputId": "d5da3a13-9777-48bd-ad35-b560679bc7ed"
      },
      "source": [
        "a = np.array([1,2,3,4,5,6,7,8,9,10])\n",
        "print(a[0:10:3]) # Note the step size of 3"
      ],
      "execution_count": 7,
      "outputs": [
        {
          "output_type": "stream",
          "text": [
            "[ 1  4  7 10]\n"
          ],
          "name": "stdout"
        }
      ]
    },
    {
      "cell_type": "markdown",
      "metadata": {
        "id": "3mOX3wkIhJdk"
      },
      "source": [
        "In a multidimensional array, `...` can be used to stand for multiple instances of `:`, enough to form a complete index in an expression. "
      ]
    },
    {
      "cell_type": "code",
      "metadata": {
        "id": "XeRUAyynhJdk",
        "colab": {
          "base_uri": "https://localhost:8080/"
        },
        "outputId": "2c94b4d9-d65b-411b-d5e6-a9a0e1465ae9"
      },
      "source": [
        "a = np.arange(27).reshape(3,3,3) # create a 3x3x3 array with ints 0-26\n",
        "\n",
        "print('-'*40)\n",
        "print(a)\n",
        "print('-'*40)\n",
        "print(\"first: \")\n",
        "print(a[1,...]) # same as a[1,:,:]\n",
        "\n",
        "print('-'*40)\n",
        "print(\"second: \")\n",
        "print(a[1,1,...]) # same as a[1,1,:]\n",
        "print('-'*40)\n",
        "print(\"third: \")\n",
        "print(a[...,2]) # same as a[:,:,2]\n"
      ],
      "execution_count": 8,
      "outputs": [
        {
          "output_type": "stream",
          "text": [
            "----------------------------------------\n",
            "[[[ 0  1  2]\n",
            "  [ 3  4  5]\n",
            "  [ 6  7  8]]\n",
            "\n",
            " [[ 9 10 11]\n",
            "  [12 13 14]\n",
            "  [15 16 17]]\n",
            "\n",
            " [[18 19 20]\n",
            "  [21 22 23]\n",
            "  [24 25 26]]]\n",
            "----------------------------------------\n",
            "first: \n",
            "[[ 9 10 11]\n",
            " [12 13 14]\n",
            " [15 16 17]]\n",
            "----------------------------------------\n",
            "second: \n",
            "[12 13 14]\n",
            "----------------------------------------\n",
            "third: \n",
            "[[ 2  5  8]\n",
            " [11 14 17]\n",
            " [20 23 26]]\n"
          ],
          "name": "stdout"
        }
      ]
    },
    {
      "cell_type": "markdown",
      "metadata": {
        "id": "E7IwTNsXhJdl"
      },
      "source": [
        "Iterating over all elemetns of a multidimensional array is easy, and there is a builtin method for flattening an array. "
      ]
    },
    {
      "cell_type": "code",
      "metadata": {
        "id": "GJZ_IruOhJdl",
        "colab": {
          "base_uri": "https://localhost:8080/"
        },
        "outputId": "b72344ec-c7fe-428b-fbbe-0c64a011cab4"
      },
      "source": [
        "a = np.arange(30).reshape(3,10) \n",
        "print(a)\n",
        "print('-'*40)\n",
        "# to iterate over each element in a 2D array. \n",
        "for e in a.flat:\n",
        "    print(e,end=' ')\n",
        "\n",
        "print()\n",
        "print('-'*40)\n",
        "\n",
        "# alternatively, flatten beforehand\n",
        "b = a.flatten()\n",
        "for e in b:\n",
        "    print(e,end=' ')"
      ],
      "execution_count": 9,
      "outputs": [
        {
          "output_type": "stream",
          "text": [
            "[[ 0  1  2  3  4  5  6  7  8  9]\n",
            " [10 11 12 13 14 15 16 17 18 19]\n",
            " [20 21 22 23 24 25 26 27 28 29]]\n",
            "----------------------------------------\n",
            "0 1 2 3 4 5 6 7 8 9 10 11 12 13 14 15 16 17 18 19 20 21 22 23 24 25 26 27 28 29 \n",
            "----------------------------------------\n",
            "0 1 2 3 4 5 6 7 8 9 10 11 12 13 14 15 16 17 18 19 20 21 22 23 24 25 26 27 28 29 "
          ],
          "name": "stdout"
        }
      ]
    },
    {
      "cell_type": "markdown",
      "metadata": {
        "id": "wtd4_2p6hJdl"
      },
      "source": [
        "As noted earlier, arrays can be reshaped using `reshape`. To transpose an array, use `.T`."
      ]
    },
    {
      "cell_type": "code",
      "metadata": {
        "id": "FGqqnZJEhJdl",
        "colab": {
          "base_uri": "https://localhost:8080/"
        },
        "outputId": "ca4d0568-64aa-4bc5-817d-fb7c88336fc2"
      },
      "source": [
        "a = np.array([[1,2,3,4], [5,6,7,8]])\n",
        "print(\"a\")\n",
        "print(a)\n",
        "print('-'*40)\n",
        "print(\"a reshaped\")\n",
        "print(a.reshape(2,2,2))\n",
        "print('-'*40)\n",
        "print(\"a transposed\")\n",
        "print(a.T)\n"
      ],
      "execution_count": 10,
      "outputs": [
        {
          "output_type": "stream",
          "text": [
            "a\n",
            "[[1 2 3 4]\n",
            " [5 6 7 8]]\n",
            "----------------------------------------\n",
            "a reshaped\n",
            "[[[1 2]\n",
            "  [3 4]]\n",
            "\n",
            " [[5 6]\n",
            "  [7 8]]]\n",
            "----------------------------------------\n",
            "a transposed\n",
            "[[1 5]\n",
            " [2 6]\n",
            " [3 7]\n",
            " [4 8]]\n"
          ],
          "name": "stdout"
        }
      ]
    },
    {
      "cell_type": "markdown",
      "metadata": {
        "id": "pmenxFM9hJdm"
      },
      "source": [
        "Arrays can also be combined, or \"stacked\"."
      ]
    },
    {
      "cell_type": "code",
      "metadata": {
        "id": "fO26bGz1hJdm",
        "colab": {
          "base_uri": "https://localhost:8080/"
        },
        "outputId": "8cc2f4d5-0bce-4387-b7f2-0d45d2271b8a"
      },
      "source": [
        "a = np.array([1,2,3,4,5])\n",
        "b = np.array([6,7,8,9,10])\n",
        "c = np.array([11,12,13,14,15])\n",
        "d = np.vstack((a,b,c))\n",
        "print(d)\n",
        "print('-'*40)\n",
        "e = np.hstack((a,b,c))\n",
        "print(e)"
      ],
      "execution_count": 11,
      "outputs": [
        {
          "output_type": "stream",
          "text": [
            "[[ 1  2  3  4  5]\n",
            " [ 6  7  8  9 10]\n",
            " [11 12 13 14 15]]\n",
            "----------------------------------------\n",
            "[ 1  2  3  4  5  6  7  8  9 10 11 12 13 14 15]\n"
          ],
          "name": "stdout"
        }
      ]
    },
    {
      "cell_type": "markdown",
      "metadata": {
        "id": "VCOe5m-gxerd"
      },
      "source": [
        "### Matrix operations with Numpy\n"
      ]
    },
    {
      "cell_type": "markdown",
      "metadata": {
        "id": "bidDtYgR_hKm"
      },
      "source": [
        "Below is an image explaining how matrix multiplication work, other operations are straight forward."
      ]
    },
    {
      "cell_type": "markdown",
      "metadata": {
        "id": "mOJrDtHjR2vB"
      },
      "source": [
        "![VK2Qtby.jpg](data:image/jpeg;base64,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)"
      ]
    },
    {
      "cell_type": "code",
      "metadata": {
        "colab": {
          "base_uri": "https://localhost:8080/"
        },
        "id": "--3SkLjvxd7M",
        "outputId": "23525bd1-5338-4884-f33f-7f00200c33dd"
      },
      "source": [
        "a=np.array([[3,1],[1,3]])\n",
        "b=np.array([[3,5],[4,2]])\n",
        "z=np.dot(a,b)\n",
        "print(f'Dot  two array :\\n{z}')\n",
        "z=np.sum(b)\n",
        "print(f'Sum of array :{z}')\n",
        "print(f'Add two array :\\n{np.add(a,b)}')\n",
        "print(f'Mean of array :\\n{np.mean(a)}')\n",
        "print(f'Matmul two array :\\n{np.matmul(a,b)}')\n",
        "print(f'Multiply two array :\\n {np.multiply(a,b)}')\n",
        "\n"
      ],
      "execution_count": 12,
      "outputs": [
        {
          "output_type": "stream",
          "text": [
            "Dot  two array :\n",
            "[[13 17]\n",
            " [15 11]]\n",
            "Sum of array :14\n",
            "Add two array :\n",
            "[[6 6]\n",
            " [5 5]]\n",
            "Mean of array :\n",
            "2.0\n",
            "Matmul two array :\n",
            "[[13 17]\n",
            " [15 11]]\n",
            "Multiply two array :\n",
            " [[9 5]\n",
            " [4 6]]\n"
          ],
          "name": "stdout"
        }
      ]
    },
    {
      "cell_type": "markdown",
      "metadata": {
        "id": "3Yvf5rSZAKRX"
      },
      "source": [
        "The purpose of using Numpy is to take advantage of its fast matrix operations, the below example illustrates that advantage. Extrapolating that to real world examples that take a few hours to complete using Numpy implementation whereas the non-vectorized implementation would take days or weeks."
      ]
    },
    {
      "cell_type": "code",
      "metadata": {
        "colab": {
          "base_uri": "https://localhost:8080/"
        },
        "id": "V62NkV4PAJ_n",
        "outputId": "f0427a77-9721-4d69-ce9f-0d1cc1e3756d"
      },
      "source": [
        "start_time=time.time()\n",
        "a=np.arange(10000000)\n",
        "b=0\n",
        "for i in a:\n",
        "    b=b+i\n",
        "print(f'Sum using loop:\\n{b}\\nTime:\\n{time.time()-start_time}')\n",
        "print('-'*40)\n",
        "start_time=time.time()\n",
        "print(f'Sum using vectorized implementation:\\n{a.sum()}\\nTime:\\n{time.time()-start_time}')"
      ],
      "execution_count": 15,
      "outputs": [
        {
          "output_type": "stream",
          "text": [
            "Sum using loop:\n",
            "49999995000000\n",
            "Time:\n",
            "2.6467814445495605\n",
            "----------------------------------------\n",
            "Sum using vectorized implementation:\n",
            "49999995000000\n",
            "Time:\n",
            "0.014493942260742188\n"
          ],
          "name": "stdout"
        }
      ]
    }
  ]
}