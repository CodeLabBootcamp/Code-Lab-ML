{
  "nbformat": 4,
  "nbformat_minor": 0,
  "metadata": {
    "colab": {
      "name": "TensorFlow Cont.",
      "provenance": [],
      "toc_visible": true
    },
    "kernelspec": {
      "name": "python3",
      "display_name": "Python 3"
    }
  },
  "cells": [
    {
      "cell_type": "markdown",
      "metadata": {
        "id": "TR1oOwdAFq64"
      },
      "source": [
        "# TensorFlow Cont.\n",
        "\n",
        "In this tutorial we'll look at the `history` field to examine the model's performance across the training epochs, we'll also take a look at the `callbacks` API that will allow us to do some operations during training."
      ]
    },
    {
      "cell_type": "code",
      "metadata": {
        "id": "zTIGS2hFFiMv"
      },
      "source": [
        "import tensorflow as tf\n",
        "import numpy as np\n",
        "import pandas as pd\n",
        "import matplotlib.pyplot as plt"
      ],
      "execution_count": 1,
      "outputs": []
    },
    {
      "cell_type": "code",
      "metadata": {
        "id": "HA1rbMnhfFad"
      },
      "source": [
        "# Setting the random seed\n",
        "tf.random.set_seed(42)"
      ],
      "execution_count": 2,
      "outputs": []
    },
    {
      "cell_type": "markdown",
      "metadata": {
        "id": "iuyW-mIPKQcP"
      },
      "source": [
        "## Regression Example"
      ]
    },
    {
      "cell_type": "markdown",
      "metadata": {
        "id": "nts4Zigdf9Nr"
      },
      "source": [
        "### Data Loading\n",
        "\n",
        "We'll use the boston housing price dataset to train a regression model."
      ]
    },
    {
      "cell_type": "code",
      "metadata": {
        "colab": {
          "base_uri": "https://localhost:8080/"
        },
        "id": "ErWADI_YIosC",
        "outputId": "b83bb0be-9230-4876-cac2-d61e718e51f8"
      },
      "source": [
        "(x_train, y_train), (x_test, y_test) = tf.keras.datasets.boston_housing.load_data()\n",
        "x_train.shape, y_train.shape, x_test.shape, y_test.shape"
      ],
      "execution_count": 3,
      "outputs": [
        {
          "output_type": "execute_result",
          "data": {
            "text/plain": [
              "((404, 13), (404,), (102, 13), (102,))"
            ]
          },
          "metadata": {
            "tags": []
          },
          "execution_count": 3
        }
      ]
    },
    {
      "cell_type": "markdown",
      "metadata": {
        "id": "cP6OHfzmgCvc"
      },
      "source": [
        "### Model \n",
        "\n",
        "The Sequential model has an input layer of shape 13 that matches the number of features in our dataset, with two fairly small hidden layers and finally a single unit output layer with no activation function since we're doing regression."
      ]
    },
    {
      "cell_type": "code",
      "metadata": {
        "id": "NNd6LQoVIzj8"
      },
      "source": [
        "model = tf.keras.Sequential([\n",
        "                             tf.keras.layers.Input(13),\n",
        "                             tf.keras.layers.Dense(16, activation='relu', name='hidden_layer_1'),\n",
        "                             tf.keras.layers.Dense(8, activation='relu', name='hidden_layer_2'),\n",
        "                             tf.keras.layers.Dense(1, name='output_layer')\n",
        "])"
      ],
      "execution_count": 4,
      "outputs": []
    },
    {
      "cell_type": "code",
      "metadata": {
        "colab": {
          "base_uri": "https://localhost:8080/"
        },
        "id": "YmHHuZq5JOEv",
        "outputId": "a8bf26b7-e6af-414f-8af7-07903cecfd59"
      },
      "source": [
        "model.summary()"
      ],
      "execution_count": 5,
      "outputs": [
        {
          "output_type": "stream",
          "text": [
            "Model: \"sequential\"\n",
            "_________________________________________________________________\n",
            "Layer (type)                 Output Shape              Param #   \n",
            "=================================================================\n",
            "hidden_layer_1 (Dense)       (None, 16)                224       \n",
            "_________________________________________________________________\n",
            "hidden_layer_2 (Dense)       (None, 8)                 136       \n",
            "_________________________________________________________________\n",
            "output_layer (Dense)         (None, 1)                 9         \n",
            "=================================================================\n",
            "Total params: 369\n",
            "Trainable params: 369\n",
            "Non-trainable params: 0\n",
            "_________________________________________________________________\n"
          ],
          "name": "stdout"
        }
      ]
    },
    {
      "cell_type": "markdown",
      "metadata": {
        "id": "wbdOlAggehKg"
      },
      "source": [
        "We'll use `tf.optimizers.Adam()` as the optimizer as we usually do, and we'll use `tf.losses.MeanSquaredError()` as the loss function, alternativly, we can use `tf.losses.MeanAbsoluteError()`."
      ]
    },
    {
      "cell_type": "code",
      "metadata": {
        "id": "Uyo3kusmJO5L"
      },
      "source": [
        "model.compile(optimizer=tf.optimizers.Adam(), loss=tf.losses.MeanSquaredError())"
      ],
      "execution_count": 6,
      "outputs": []
    },
    {
      "cell_type": "markdown",
      "metadata": {
        "id": "PmdL820qez0Q"
      },
      "source": [
        "Let's fit the model for 100 epoch and examine the results."
      ]
    },
    {
      "cell_type": "code",
      "metadata": {
        "colab": {
          "base_uri": "https://localhost:8080/"
        },
        "id": "gr8nSGirJUFK",
        "outputId": "9a2b3ac6-0301-4006-e10c-922e8c12dcd0"
      },
      "source": [
        "model.fit(x_train, y_train, epochs=100, validation_data=(x_test, y_test))"
      ],
      "execution_count": 7,
      "outputs": [
        {
          "output_type": "stream",
          "text": [
            "Epoch 1/100\n",
            "13/13 [==============================] - 1s 31ms/step - loss: 1963.4778 - val_loss: 1079.7941\n",
            "Epoch 2/100\n",
            "13/13 [==============================] - 0s 4ms/step - loss: 727.4081 - val_loss: 340.6337\n",
            "Epoch 3/100\n",
            "13/13 [==============================] - 0s 4ms/step - loss: 191.3203 - val_loss: 188.8812\n",
            "Epoch 4/100\n",
            "13/13 [==============================] - 0s 4ms/step - loss: 151.2813 - val_loss: 150.5550\n",
            "Epoch 5/100\n",
            "13/13 [==============================] - 0s 4ms/step - loss: 126.9166 - val_loss: 149.7552\n",
            "Epoch 6/100\n",
            "13/13 [==============================] - 0s 4ms/step - loss: 127.2338 - val_loss: 142.7907\n",
            "Epoch 7/100\n",
            "13/13 [==============================] - 0s 4ms/step - loss: 108.6492 - val_loss: 148.9454\n",
            "Epoch 8/100\n",
            "13/13 [==============================] - 0s 4ms/step - loss: 115.0753 - val_loss: 139.1197\n",
            "Epoch 9/100\n",
            "13/13 [==============================] - 0s 4ms/step - loss: 123.9533 - val_loss: 129.8227\n",
            "Epoch 10/100\n",
            "13/13 [==============================] - 0s 4ms/step - loss: 116.2562 - val_loss: 140.0802\n",
            "Epoch 11/100\n",
            "13/13 [==============================] - 0s 4ms/step - loss: 123.4658 - val_loss: 121.5569\n",
            "Epoch 12/100\n",
            "13/13 [==============================] - 0s 4ms/step - loss: 110.0523 - val_loss: 119.5828\n",
            "Epoch 13/100\n",
            "13/13 [==============================] - 0s 4ms/step - loss: 96.6385 - val_loss: 129.3902\n",
            "Epoch 14/100\n",
            "13/13 [==============================] - 0s 4ms/step - loss: 99.6572 - val_loss: 120.6059\n",
            "Epoch 15/100\n",
            "13/13 [==============================] - 0s 4ms/step - loss: 85.9659 - val_loss: 114.1992\n",
            "Epoch 16/100\n",
            "13/13 [==============================] - 0s 4ms/step - loss: 81.8002 - val_loss: 106.7368\n",
            "Epoch 17/100\n",
            "13/13 [==============================] - 0s 4ms/step - loss: 90.2091 - val_loss: 103.1585\n",
            "Epoch 18/100\n",
            "13/13 [==============================] - 0s 4ms/step - loss: 84.6436 - val_loss: 104.6124\n",
            "Epoch 19/100\n",
            "13/13 [==============================] - 0s 4ms/step - loss: 80.7931 - val_loss: 101.9794\n",
            "Epoch 20/100\n",
            "13/13 [==============================] - 0s 4ms/step - loss: 93.1447 - val_loss: 97.4924\n",
            "Epoch 21/100\n",
            "13/13 [==============================] - 0s 4ms/step - loss: 89.3601 - val_loss: 99.4273\n",
            "Epoch 22/100\n",
            "13/13 [==============================] - 0s 4ms/step - loss: 79.3772 - val_loss: 107.3509\n",
            "Epoch 23/100\n",
            "13/13 [==============================] - 0s 4ms/step - loss: 88.1948 - val_loss: 97.8706\n",
            "Epoch 24/100\n",
            "13/13 [==============================] - 0s 4ms/step - loss: 82.6555 - val_loss: 90.8628\n",
            "Epoch 25/100\n",
            "13/13 [==============================] - 0s 4ms/step - loss: 72.7538 - val_loss: 88.8423\n",
            "Epoch 26/100\n",
            "13/13 [==============================] - 0s 4ms/step - loss: 72.2655 - val_loss: 94.5803\n",
            "Epoch 27/100\n",
            "13/13 [==============================] - 0s 4ms/step - loss: 74.7588 - val_loss: 87.4915\n",
            "Epoch 28/100\n",
            "13/13 [==============================] - 0s 4ms/step - loss: 63.1346 - val_loss: 86.9479\n",
            "Epoch 29/100\n",
            "13/13 [==============================] - 0s 4ms/step - loss: 63.0544 - val_loss: 88.7831\n",
            "Epoch 30/100\n",
            "13/13 [==============================] - 0s 4ms/step - loss: 59.8166 - val_loss: 93.2799\n",
            "Epoch 31/100\n",
            "13/13 [==============================] - 0s 4ms/step - loss: 69.8961 - val_loss: 82.3318\n",
            "Epoch 32/100\n",
            "13/13 [==============================] - 0s 5ms/step - loss: 77.6115 - val_loss: 79.6866\n",
            "Epoch 33/100\n",
            "13/13 [==============================] - 0s 4ms/step - loss: 59.3616 - val_loss: 84.3200\n",
            "Epoch 34/100\n",
            "13/13 [==============================] - 0s 13ms/step - loss: 69.2974 - val_loss: 77.9777\n",
            "Epoch 35/100\n",
            "13/13 [==============================] - 0s 4ms/step - loss: 66.7721 - val_loss: 76.1207\n",
            "Epoch 36/100\n",
            "13/13 [==============================] - 0s 4ms/step - loss: 60.7867 - val_loss: 77.7632\n",
            "Epoch 37/100\n",
            "13/13 [==============================] - 0s 4ms/step - loss: 69.5413 - val_loss: 75.1903\n",
            "Epoch 38/100\n",
            "13/13 [==============================] - 0s 4ms/step - loss: 65.6547 - val_loss: 76.0301\n",
            "Epoch 39/100\n",
            "13/13 [==============================] - 0s 4ms/step - loss: 65.7459 - val_loss: 76.4210\n",
            "Epoch 40/100\n",
            "13/13 [==============================] - 0s 4ms/step - loss: 79.8408 - val_loss: 91.0180\n",
            "Epoch 41/100\n",
            "13/13 [==============================] - 0s 4ms/step - loss: 54.4853 - val_loss: 72.2724\n",
            "Epoch 42/100\n",
            "13/13 [==============================] - 0s 4ms/step - loss: 65.4400 - val_loss: 71.3617\n",
            "Epoch 43/100\n",
            "13/13 [==============================] - 0s 4ms/step - loss: 59.8075 - val_loss: 76.5898\n",
            "Epoch 44/100\n",
            "13/13 [==============================] - 0s 4ms/step - loss: 53.7592 - val_loss: 77.5576\n",
            "Epoch 45/100\n",
            "13/13 [==============================] - 0s 4ms/step - loss: 52.6570 - val_loss: 76.4622\n",
            "Epoch 46/100\n",
            "13/13 [==============================] - 0s 4ms/step - loss: 57.9522 - val_loss: 68.0769\n",
            "Epoch 47/100\n",
            "13/13 [==============================] - 0s 4ms/step - loss: 53.3996 - val_loss: 67.7207\n",
            "Epoch 48/100\n",
            "13/13 [==============================] - 0s 5ms/step - loss: 57.9122 - val_loss: 68.8325\n",
            "Epoch 49/100\n",
            "13/13 [==============================] - 0s 4ms/step - loss: 54.5367 - val_loss: 69.1750\n",
            "Epoch 50/100\n",
            "13/13 [==============================] - 0s 4ms/step - loss: 60.9534 - val_loss: 66.4927\n",
            "Epoch 51/100\n",
            "13/13 [==============================] - 0s 4ms/step - loss: 61.1412 - val_loss: 66.8313\n",
            "Epoch 52/100\n",
            "13/13 [==============================] - 0s 4ms/step - loss: 59.5058 - val_loss: 64.8884\n",
            "Epoch 53/100\n",
            "13/13 [==============================] - 0s 4ms/step - loss: 55.4444 - val_loss: 63.4212\n",
            "Epoch 54/100\n",
            "13/13 [==============================] - 0s 4ms/step - loss: 48.4823 - val_loss: 62.9993\n",
            "Epoch 55/100\n",
            "13/13 [==============================] - 0s 5ms/step - loss: 50.6685 - val_loss: 62.6979\n",
            "Epoch 56/100\n",
            "13/13 [==============================] - 0s 4ms/step - loss: 52.4617 - val_loss: 61.4324\n",
            "Epoch 57/100\n",
            "13/13 [==============================] - 0s 4ms/step - loss: 48.3462 - val_loss: 62.3067\n",
            "Epoch 58/100\n",
            "13/13 [==============================] - 0s 4ms/step - loss: 52.1047 - val_loss: 63.1872\n",
            "Epoch 59/100\n",
            "13/13 [==============================] - 0s 4ms/step - loss: 46.8261 - val_loss: 69.9243\n",
            "Epoch 60/100\n",
            "13/13 [==============================] - 0s 4ms/step - loss: 55.6706 - val_loss: 68.5619\n",
            "Epoch 61/100\n",
            "13/13 [==============================] - 0s 4ms/step - loss: 50.1687 - val_loss: 66.7408\n",
            "Epoch 62/100\n",
            "13/13 [==============================] - 0s 4ms/step - loss: 54.5665 - val_loss: 59.7468\n",
            "Epoch 63/100\n",
            "13/13 [==============================] - 0s 4ms/step - loss: 47.5345 - val_loss: 57.6785\n",
            "Epoch 64/100\n",
            "13/13 [==============================] - 0s 4ms/step - loss: 50.5214 - val_loss: 58.2202\n",
            "Epoch 65/100\n",
            "13/13 [==============================] - 0s 5ms/step - loss: 52.4894 - val_loss: 57.0650\n",
            "Epoch 66/100\n",
            "13/13 [==============================] - 0s 4ms/step - loss: 38.1023 - val_loss: 57.0113\n",
            "Epoch 67/100\n",
            "13/13 [==============================] - 0s 5ms/step - loss: 48.4991 - val_loss: 57.1462\n",
            "Epoch 68/100\n",
            "13/13 [==============================] - 0s 4ms/step - loss: 48.0547 - val_loss: 62.4256\n",
            "Epoch 69/100\n",
            "13/13 [==============================] - 0s 4ms/step - loss: 58.6585 - val_loss: 62.2071\n",
            "Epoch 70/100\n",
            "13/13 [==============================] - 0s 4ms/step - loss: 44.1818 - val_loss: 55.9627\n",
            "Epoch 71/100\n",
            "13/13 [==============================] - 0s 4ms/step - loss: 57.8756 - val_loss: 62.9522\n",
            "Epoch 72/100\n",
            "13/13 [==============================] - 0s 4ms/step - loss: 60.3627 - val_loss: 64.3451\n",
            "Epoch 73/100\n",
            "13/13 [==============================] - 0s 4ms/step - loss: 44.4400 - val_loss: 53.4480\n",
            "Epoch 74/100\n",
            "13/13 [==============================] - 0s 4ms/step - loss: 41.2593 - val_loss: 54.2131\n",
            "Epoch 75/100\n",
            "13/13 [==============================] - 0s 4ms/step - loss: 41.2705 - val_loss: 53.9193\n",
            "Epoch 76/100\n",
            "13/13 [==============================] - 0s 4ms/step - loss: 40.3541 - val_loss: 51.8776\n",
            "Epoch 77/100\n",
            "13/13 [==============================] - 0s 4ms/step - loss: 48.6351 - val_loss: 56.8202\n",
            "Epoch 78/100\n",
            "13/13 [==============================] - 0s 4ms/step - loss: 46.6870 - val_loss: 53.2120\n",
            "Epoch 79/100\n",
            "13/13 [==============================] - 0s 4ms/step - loss: 38.2374 - val_loss: 51.6994\n",
            "Epoch 80/100\n",
            "13/13 [==============================] - 0s 4ms/step - loss: 48.8663 - val_loss: 52.0288\n",
            "Epoch 81/100\n",
            "13/13 [==============================] - 0s 4ms/step - loss: 44.2328 - val_loss: 53.0304\n",
            "Epoch 82/100\n",
            "13/13 [==============================] - 0s 4ms/step - loss: 44.5459 - val_loss: 52.2725\n",
            "Epoch 83/100\n",
            "13/13 [==============================] - 0s 4ms/step - loss: 45.1928 - val_loss: 51.7295\n",
            "Epoch 84/100\n",
            "13/13 [==============================] - 0s 13ms/step - loss: 40.1888 - val_loss: 53.6309\n",
            "Epoch 85/100\n",
            "13/13 [==============================] - 0s 4ms/step - loss: 51.7233 - val_loss: 55.4126\n",
            "Epoch 86/100\n",
            "13/13 [==============================] - 0s 4ms/step - loss: 48.6935 - val_loss: 50.9534\n",
            "Epoch 87/100\n",
            "13/13 [==============================] - 0s 4ms/step - loss: 51.9579 - val_loss: 58.7435\n",
            "Epoch 88/100\n",
            "13/13 [==============================] - 0s 4ms/step - loss: 38.9116 - val_loss: 54.4952\n",
            "Epoch 89/100\n",
            "13/13 [==============================] - 0s 4ms/step - loss: 49.7560 - val_loss: 54.5564\n",
            "Epoch 90/100\n",
            "13/13 [==============================] - 0s 5ms/step - loss: 40.9121 - val_loss: 48.8849\n",
            "Epoch 91/100\n",
            "13/13 [==============================] - 0s 4ms/step - loss: 38.0627 - val_loss: 49.2335\n",
            "Epoch 92/100\n",
            "13/13 [==============================] - 0s 4ms/step - loss: 50.3074 - val_loss: 48.7082\n",
            "Epoch 93/100\n",
            "13/13 [==============================] - 0s 6ms/step - loss: 49.7207 - val_loss: 47.4083\n",
            "Epoch 94/100\n",
            "13/13 [==============================] - 0s 4ms/step - loss: 45.8057 - val_loss: 48.1132\n",
            "Epoch 95/100\n",
            "13/13 [==============================] - 0s 4ms/step - loss: 36.3503 - val_loss: 48.1632\n",
            "Epoch 96/100\n",
            "13/13 [==============================] - 0s 4ms/step - loss: 36.8579 - val_loss: 49.8332\n",
            "Epoch 97/100\n",
            "13/13 [==============================] - 0s 4ms/step - loss: 47.1928 - val_loss: 46.7942\n",
            "Epoch 98/100\n",
            "13/13 [==============================] - 0s 4ms/step - loss: 36.9612 - val_loss: 47.2427\n",
            "Epoch 99/100\n",
            "13/13 [==============================] - 0s 4ms/step - loss: 51.1281 - val_loss: 47.5828\n",
            "Epoch 100/100\n",
            "13/13 [==============================] - 0s 5ms/step - loss: 41.8860 - val_loss: 47.4987\n"
          ],
          "name": "stdout"
        },
        {
          "output_type": "execute_result",
          "data": {
            "text/plain": [
              "<tensorflow.python.keras.callbacks.History at 0x7f93dd9bd6a0>"
            ]
          },
          "metadata": {
            "tags": []
          },
          "execution_count": 7
        }
      ]
    },
    {
      "cell_type": "markdown",
      "metadata": {
        "id": "Zogfztexe8gF"
      },
      "source": [
        ""
      ]
    },
    {
      "cell_type": "markdown",
      "metadata": {
        "id": "QWwSXr9egIPD"
      },
      "source": [
        "### Examine Model's Training Trends\n",
        "\n",
        "We can see that in the final epoch, we got a training loss of 41.8860 and a validation loss of 47.4987. While we can take a look at the `fit` method's logs to examine the model's trends while training, it's easier to convert the `history` field in the model to a Pandas `DataFrame` which will allow us to easily filter fields and plot the values."
      ]
    },
    {
      "cell_type": "code",
      "metadata": {
        "colab": {
          "base_uri": "https://localhost:8080/",
          "height": 419
        },
        "id": "BgwcycVZJjc0",
        "outputId": "7004aa25-fc6d-49ba-8300-3608c18acff5"
      },
      "source": [
        "df = pd.DataFrame(model.history.history)\n",
        "df"
      ],
      "execution_count": 8,
      "outputs": [
        {
          "output_type": "execute_result",
          "data": {
            "text/html": [
              "<div>\n",
              "<style scoped>\n",
              "    .dataframe tbody tr th:only-of-type {\n",
              "        vertical-align: middle;\n",
              "    }\n",
              "\n",
              "    .dataframe tbody tr th {\n",
              "        vertical-align: top;\n",
              "    }\n",
              "\n",
              "    .dataframe thead th {\n",
              "        text-align: right;\n",
              "    }\n",
              "</style>\n",
              "<table border=\"1\" class=\"dataframe\">\n",
              "  <thead>\n",
              "    <tr style=\"text-align: right;\">\n",
              "      <th></th>\n",
              "      <th>loss</th>\n",
              "      <th>val_loss</th>\n",
              "    </tr>\n",
              "  </thead>\n",
              "  <tbody>\n",
              "    <tr>\n",
              "      <th>0</th>\n",
              "      <td>1657.922852</td>\n",
              "      <td>1079.794067</td>\n",
              "    </tr>\n",
              "    <tr>\n",
              "      <th>1</th>\n",
              "      <td>597.751526</td>\n",
              "      <td>340.633728</td>\n",
              "    </tr>\n",
              "    <tr>\n",
              "      <th>2</th>\n",
              "      <td>191.797699</td>\n",
              "      <td>188.881165</td>\n",
              "    </tr>\n",
              "    <tr>\n",
              "      <th>3</th>\n",
              "      <td>148.425674</td>\n",
              "      <td>150.554977</td>\n",
              "    </tr>\n",
              "    <tr>\n",
              "      <th>4</th>\n",
              "      <td>135.365463</td>\n",
              "      <td>149.755157</td>\n",
              "    </tr>\n",
              "    <tr>\n",
              "      <th>...</th>\n",
              "      <td>...</td>\n",
              "      <td>...</td>\n",
              "    </tr>\n",
              "    <tr>\n",
              "      <th>95</th>\n",
              "      <td>39.500385</td>\n",
              "      <td>49.833153</td>\n",
              "    </tr>\n",
              "    <tr>\n",
              "      <th>96</th>\n",
              "      <td>41.110104</td>\n",
              "      <td>46.794193</td>\n",
              "    </tr>\n",
              "    <tr>\n",
              "      <th>97</th>\n",
              "      <td>39.977066</td>\n",
              "      <td>47.242695</td>\n",
              "    </tr>\n",
              "    <tr>\n",
              "      <th>98</th>\n",
              "      <td>39.798054</td>\n",
              "      <td>47.582767</td>\n",
              "    </tr>\n",
              "    <tr>\n",
              "      <th>99</th>\n",
              "      <td>39.621162</td>\n",
              "      <td>47.498741</td>\n",
              "    </tr>\n",
              "  </tbody>\n",
              "</table>\n",
              "<p>100 rows × 2 columns</p>\n",
              "</div>"
            ],
            "text/plain": [
              "           loss     val_loss\n",
              "0   1657.922852  1079.794067\n",
              "1    597.751526   340.633728\n",
              "2    191.797699   188.881165\n",
              "3    148.425674   150.554977\n",
              "4    135.365463   149.755157\n",
              "..          ...          ...\n",
              "95    39.500385    49.833153\n",
              "96    41.110104    46.794193\n",
              "97    39.977066    47.242695\n",
              "98    39.798054    47.582767\n",
              "99    39.621162    47.498741\n",
              "\n",
              "[100 rows x 2 columns]"
            ]
          },
          "metadata": {
            "tags": []
          },
          "execution_count": 8
        }
      ]
    },
    {
      "cell_type": "markdown",
      "metadata": {
        "id": "ahxjNqDYgYvS"
      },
      "source": [
        "We can also use `DataFrame`'s  built-in plot methods to plot the training and validation loss."
      ]
    },
    {
      "cell_type": "code",
      "metadata": {
        "colab": {
          "base_uri": "https://localhost:8080/",
          "height": 296
        },
        "id": "rw1H7mwvJw7D",
        "outputId": "ab85c600-79b1-469e-bd27-b1f82b98c9f7"
      },
      "source": [
        "ax = df.plot.line()\n",
        "ax.set_xlabel(\"Loss Value\")\n",
        "ax.set_ylabel(\"Epochs\")"
      ],
      "execution_count": 9,
      "outputs": [
        {
          "output_type": "execute_result",
          "data": {
            "text/plain": [
              "Text(0, 0.5, 'Epochs')"
            ]
          },
          "metadata": {
            "tags": []
          },
          "execution_count": 9
        },
        {
          "output_type": "display_data",
          "data": {
            "image/png": "[encoded data removed]",
            "text/plain": [
              "<Figure size 432x288 with 1 Axes>"
            ]
          },
          "metadata": {
            "tags": [],
            "needs_background": "light"
          }
        }
      ]
    },
    {
      "cell_type": "markdown",
      "metadata": {
        "id": "Fy0nkbZfg1SC"
      },
      "source": [
        "We notice that the model has converged quickly and almost stopped improving after the 20th epoch. But the high loss values in the first few epochs may cause imbalance in the line charts. We can zoom into the later part of the epochs using Panda's `iloc` selector "
      ]
    },
    {
      "cell_type": "code",
      "metadata": {
        "colab": {
          "base_uri": "https://localhost:8080/",
          "height": 296
        },
        "id": "jhH3GzvKJynA",
        "outputId": "7ae9fec8-7dba-4277-9af5-9f1c1e6c699f"
      },
      "source": [
        "# Here we'll look at the 10th epoch and upwards\n",
        "ax = df.iloc[10:].plot.line()\n",
        "ax.set_xlabel(\"Loss Value\")\n",
        "ax.set_ylabel(\"Epochs\")"
      ],
      "execution_count": 10,
      "outputs": [
        {
          "output_type": "execute_result",
          "data": {
            "text/plain": [
              "Text(0, 0.5, 'Epochs')"
            ]
          },
          "metadata": {
            "tags": []
          },
          "execution_count": 10
        },
        {
          "output_type": "display_data",
          "data": {
            "image/png": "[encoded data removed]",
            "text/plain": [
              "<Figure size 432x288 with 1 Axes>"
            ]
          },
          "metadata": {
            "tags": [],
            "needs_background": "light"
          }
        }
      ]
    },
    {
      "cell_type": "markdown",
      "metadata": {
        "id": "QB_fq2NxhFnz"
      },
      "source": [
        "After zooming in we can see that the training/validation losses are moving together at the same pace, indicating that there's no overfitting happening, and they also continue to go down even in the last few epochs, which might mean that we can traing beyond 100 epoches and still get better results."
      ]
    },
    {
      "cell_type": "markdown",
      "metadata": {
        "id": "ol1yy0FKoJbO"
      },
      "source": [
        "## Regression Example with Callbacks\n",
        "\n",
        "For this example we'll use the same dataset and model but leverage the `callbacks` parameters in the fit method to implement Early Stopping so we can allow the model to train for more epoches and let it stop automatically when there's no more imporvements"
      ]
    },
    {
      "cell_type": "markdown",
      "metadata": {
        "id": "aYocf7h406nO"
      },
      "source": [
        "### Restarting Tensorflow State"
      ]
    },
    {
      "cell_type": "code",
      "metadata": {
        "id": "9HD3pVVuvr4-"
      },
      "source": [
        "del tf\n",
        "import tensorflow as tf\n",
        "tf.random.set_seed(42)"
      ],
      "execution_count": 11,
      "outputs": []
    },
    {
      "cell_type": "markdown",
      "metadata": {
        "id": "nECOx3Qe09ca"
      },
      "source": [
        "### Model"
      ]
    },
    {
      "cell_type": "code",
      "metadata": {
        "id": "k3v4lxZRoJbR"
      },
      "source": [
        "model_w_callbacks = tf.keras.Sequential([\n",
        "                             tf.keras.layers.Input(13),\n",
        "                             tf.keras.layers.Dense(16, activation='relu', name='hidden_layer_1'),\n",
        "                             tf.keras.layers.Dense(8, activation='relu', name='hidden_layer_2'),\n",
        "                             tf.keras.layers.Dense(1, name='output_layer')\n",
        "])"
      ],
      "execution_count": 12,
      "outputs": []
    },
    {
      "cell_type": "code",
      "metadata": {
        "colab": {
          "base_uri": "https://localhost:8080/"
        },
        "id": "rWLDpSXBoJbR",
        "outputId": "b879edd4-3657-45a6-a42a-92672cd0780c"
      },
      "source": [
        "model_w_callbacks.summary()"
      ],
      "execution_count": 13,
      "outputs": [
        {
          "output_type": "stream",
          "text": [
            "Model: \"sequential_1\"\n",
            "_________________________________________________________________\n",
            "Layer (type)                 Output Shape              Param #   \n",
            "=================================================================\n",
            "hidden_layer_1 (Dense)       (None, 16)                224       \n",
            "_________________________________________________________________\n",
            "hidden_layer_2 (Dense)       (None, 8)                 136       \n",
            "_________________________________________________________________\n",
            "output_layer (Dense)         (None, 1)                 9         \n",
            "=================================================================\n",
            "Total params: 369\n",
            "Trainable params: 369\n",
            "Non-trainable params: 0\n",
            "_________________________________________________________________\n"
          ],
          "name": "stdout"
        }
      ]
    },
    {
      "cell_type": "code",
      "metadata": {
        "id": "FZkZ2e-aoJbR"
      },
      "source": [
        "model_w_callbacks.compile(optimizer=tf.optimizers.Adam(), loss=tf.losses.MeanSquaredError())"
      ],
      "execution_count": 14,
      "outputs": []
    },
    {
      "cell_type": "markdown",
      "metadata": {
        "id": "0aLT_ilpoJbR"
      },
      "source": [
        "### Callbacks\n",
        "\n",
        "For training, we're adding the callbacks parameter to the `fit` method. This allows us to do custom operations on various events during training like epoch start/end, batch start/end and so on. Let's take a look at a custom callback that we can build.\n",
        "\n",
        "The callback class below overrides all callback methods and just logs the current loss and accuracy (if exists) values, alternativly we pick only the callback methods that we want to override and leave out the rest. \n",
        "\n",
        "Keras has a list of built-in callbacks, we'll be using the EarlyStopping callback, a full list of available callbacks can be found here: https://www.tensorflow.org/api_docs/python/tf/keras/callbacks\n",
        "\n",
        "Try editing the above `CustomCallback` class and replace EarlyStopping with it (or add it to the array alongside EarlyStopping, since the `callbacks` parameters takes in an array of callbacks. \n",
        "\n"
      ]
    },
    {
      "cell_type": "code",
      "metadata": {
        "id": "ICaUaPW7r1NU"
      },
      "source": [
        "class CustomCallback(tf.keras.callbacks.Callback):\n",
        "    def on_train_begin(self, logs=None):\n",
        "        keys = list(logs.keys())\n",
        "        print(\"Starting training; got log keys: {}\".format(keys))\n",
        "\n",
        "    def on_train_end(self, logs=None):\n",
        "        keys = list(logs.keys())\n",
        "        print(\"Stop training; got log keys: {}\".format(keys))\n",
        "\n",
        "    def on_epoch_begin(self, epoch, logs=None):\n",
        "        keys = list(logs.keys())\n",
        "        print(\"Start epoch {} of training; got log keys: {}\".format(epoch, keys))\n",
        "\n",
        "    def on_epoch_end(self, epoch, logs=None):\n",
        "        keys = list(logs.keys())\n",
        "        print(\"End epoch {} of training; got log keys: {}\".format(epoch, keys))\n",
        "\n",
        "    def on_test_begin(self, logs=None):\n",
        "        keys = list(logs.keys())\n",
        "        print(\"Start testing; got log keys: {}\".format(keys))\n",
        "\n",
        "    def on_test_end(self, logs=None):\n",
        "        keys = list(logs.keys())\n",
        "        print(\"Stop testing; got log keys: {}\".format(keys))\n",
        "\n",
        "    def on_predict_begin(self, logs=None):\n",
        "        keys = list(logs.keys())\n",
        "        print(\"Start predicting; got log keys: {}\".format(keys))\n",
        "\n",
        "    def on_predict_end(self, logs=None):\n",
        "        keys = list(logs.keys())\n",
        "        print(\"Stop predicting; got log keys: {}\".format(keys))\n",
        "\n",
        "    def on_train_batch_begin(self, batch, logs=None):\n",
        "        keys = list(logs.keys())\n",
        "        print(\"...Training: start of batch {}; got log keys: {}\".format(batch, keys))\n",
        "\n",
        "    def on_train_batch_end(self, batch, logs=None):\n",
        "        keys = list(logs.keys())\n",
        "        print(\"...Training: end of batch {}; got log keys: {}\".format(batch, keys))\n",
        "\n",
        "    def on_test_batch_begin(self, batch, logs=None):\n",
        "        keys = list(logs.keys())\n",
        "        print(\"...Evaluating: start of batch {}; got log keys: {}\".format(batch, keys))\n",
        "\n",
        "    def on_test_batch_end(self, batch, logs=None):\n",
        "        keys = list(logs.keys())\n",
        "        print(\"...Evaluating: end of batch {}; got log keys: {}\".format(batch, keys))\n",
        "\n",
        "    def on_predict_batch_begin(self, batch, logs=None):\n",
        "        keys = list(logs.keys())\n",
        "        print(\"...Predicting: start of batch {}; got log keys: {}\".format(batch, keys))\n",
        "\n",
        "    def on_predict_batch_end(self, batch, logs=None):\n",
        "        keys = list(logs.keys())\n",
        "        print(\"...Predicting: end of batch {}; got log keys: {}\".format(batch, keys))"
      ],
      "execution_count": 15,
      "outputs": []
    },
    {
      "cell_type": "markdown",
      "metadata": {
        "id": "NSl7fwswsDhH"
      },
      "source": [
        "Here, we will use `tf.keras.callbacks.EarlyStopping()` in the callbacks, this callback forces the model to stop training if a certain change threshold isn't met, we can fully control that threshold using the provided parameters.\n",
        "\n",
        "* `monitor` specifies the metric/loss we're watching, by default it watches the `val_loss`.\n",
        "* `min_delta` specifies the threshold of change in the monitored metric/loss to continue training.\n",
        "* `patience` specifies the number of epoches to wait for the desired `min_delta`.\n",
        "* `mode` specifies the desired direction for change (i.e. increase/decrease), the possible values are either `min`, `max`, or `auto`. In min mode, training will stop when the quantity monitored has stopped decreasing; in \"max\" mode it will stop when the quantity monitored has stopped increasing; in \"auto\" mode, the direction is automatically inferred from the name of the monitored quantity. baseline: Baseline value for the monitored quantity.\n",
        "\n",
        "\n",
        "\n",
        "\n",
        "If we set `min_delta` to 0.5, the training will stop when the difference between the last epoch's `val_loss` and the current's is less than 0.5. Adding a patience of 10 will wait for 10 epochs for a change in `val_loss` of 0.5 or more before stopping training.\n",
        "\n"
      ]
    },
    {
      "cell_type": "code",
      "metadata": {
        "colab": {
          "base_uri": "https://localhost:8080/"
        },
        "id": "8Os03iw3oJbS",
        "outputId": "97183d85-7d13-4fdf-cc3e-18ca24840ee2"
      },
      "source": [
        "model_w_callbacks.fit(x_train, y_train, epochs=200, validation_data=(x_test, y_test), callbacks=[tf.keras.callbacks.EarlyStopping(min_delta=0.5, patience=10)])"
      ],
      "execution_count": 16,
      "outputs": [
        {
          "output_type": "stream",
          "text": [
            "Epoch 1/200\n",
            "13/13 [==============================] - 0s 13ms/step - loss: 1963.4778 - val_loss: 1079.7941\n",
            "Epoch 2/200\n",
            "13/13 [==============================] - 0s 4ms/step - loss: 727.4081 - val_loss: 340.6337\n",
            "Epoch 3/200\n",
            "13/13 [==============================] - 0s 4ms/step - loss: 191.3203 - val_loss: 188.8812\n",
            "Epoch 4/200\n",
            "13/13 [==============================] - 0s 4ms/step - loss: 151.2813 - val_loss: 150.5550\n",
            "Epoch 5/200\n",
            "13/13 [==============================] - 0s 4ms/step - loss: 126.9166 - val_loss: 149.7552\n",
            "Epoch 6/200\n",
            "13/13 [==============================] - 0s 4ms/step - loss: 127.2338 - val_loss: 142.7907\n",
            "Epoch 7/200\n",
            "13/13 [==============================] - 0s 4ms/step - loss: 108.6492 - val_loss: 148.9454\n",
            "Epoch 8/200\n",
            "13/13 [==============================] - 0s 4ms/step - loss: 115.0753 - val_loss: 139.1197\n",
            "Epoch 9/200\n",
            "13/13 [==============================] - 0s 4ms/step - loss: 123.9533 - val_loss: 129.8227\n",
            "Epoch 10/200\n",
            "13/13 [==============================] - 0s 4ms/step - loss: 116.2562 - val_loss: 140.0802\n",
            "Epoch 11/200\n",
            "13/13 [==============================] - 0s 4ms/step - loss: 123.4658 - val_loss: 121.5569\n",
            "Epoch 12/200\n",
            "13/13 [==============================] - 0s 4ms/step - loss: 110.0523 - val_loss: 119.5828\n",
            "Epoch 13/200\n",
            "13/13 [==============================] - 0s 4ms/step - loss: 96.6385 - val_loss: 129.3902\n",
            "Epoch 14/200\n",
            "13/13 [==============================] - 0s 4ms/step - loss: 99.6572 - val_loss: 120.6059\n",
            "Epoch 15/200\n",
            "13/13 [==============================] - 0s 14ms/step - loss: 85.9659 - val_loss: 114.1992\n",
            "Epoch 16/200\n",
            "13/13 [==============================] - 0s 4ms/step - loss: 81.8002 - val_loss: 106.7368\n",
            "Epoch 17/200\n",
            "13/13 [==============================] - 0s 5ms/step - loss: 90.2091 - val_loss: 103.1585\n",
            "Epoch 18/200\n",
            "13/13 [==============================] - 0s 4ms/step - loss: 84.6436 - val_loss: 104.6124\n",
            "Epoch 19/200\n",
            "13/13 [==============================] - 0s 4ms/step - loss: 80.7931 - val_loss: 101.9794\n",
            "Epoch 20/200\n",
            "13/13 [==============================] - 0s 4ms/step - loss: 93.1447 - val_loss: 97.4924\n",
            "Epoch 21/200\n",
            "13/13 [==============================] - 0s 5ms/step - loss: 89.3601 - val_loss: 99.4273\n",
            "Epoch 22/200\n",
            "13/13 [==============================] - 0s 4ms/step - loss: 79.3772 - val_loss: 107.3509\n",
            "Epoch 23/200\n",
            "13/13 [==============================] - 0s 4ms/step - loss: 88.1948 - val_loss: 97.8706\n",
            "Epoch 24/200\n",
            "13/13 [==============================] - 0s 4ms/step - loss: 82.6555 - val_loss: 90.8628\n",
            "Epoch 25/200\n",
            "13/13 [==============================] - 0s 4ms/step - loss: 72.7538 - val_loss: 88.8423\n",
            "Epoch 26/200\n",
            "13/13 [==============================] - 0s 4ms/step - loss: 72.2655 - val_loss: 94.5803\n",
            "Epoch 27/200\n",
            "13/13 [==============================] - 0s 4ms/step - loss: 74.7588 - val_loss: 87.4915\n",
            "Epoch 28/200\n",
            "13/13 [==============================] - 0s 4ms/step - loss: 63.1346 - val_loss: 86.9479\n",
            "Epoch 29/200\n",
            "13/13 [==============================] - 0s 4ms/step - loss: 63.0544 - val_loss: 88.7831\n",
            "Epoch 30/200\n",
            "13/13 [==============================] - 0s 4ms/step - loss: 59.8166 - val_loss: 93.2799\n",
            "Epoch 31/200\n",
            "13/13 [==============================] - 0s 4ms/step - loss: 69.8961 - val_loss: 82.3318\n",
            "Epoch 32/200\n",
            "13/13 [==============================] - 0s 4ms/step - loss: 77.6115 - val_loss: 79.6866\n",
            "Epoch 33/200\n",
            "13/13 [==============================] - 0s 4ms/step - loss: 59.3616 - val_loss: 84.3200\n",
            "Epoch 34/200\n",
            "13/13 [==============================] - 0s 4ms/step - loss: 69.2974 - val_loss: 77.9777\n",
            "Epoch 35/200\n",
            "13/13 [==============================] - 0s 4ms/step - loss: 66.7721 - val_loss: 76.1207\n",
            "Epoch 36/200\n",
            "13/13 [==============================] - 0s 4ms/step - loss: 60.7867 - val_loss: 77.7632\n",
            "Epoch 37/200\n",
            "13/13 [==============================] - 0s 5ms/step - loss: 69.5413 - val_loss: 75.1903\n",
            "Epoch 38/200\n",
            "13/13 [==============================] - 0s 4ms/step - loss: 65.6547 - val_loss: 76.0301\n",
            "Epoch 39/200\n",
            "13/13 [==============================] - 0s 4ms/step - loss: 65.7459 - val_loss: 76.4210\n",
            "Epoch 40/200\n",
            "13/13 [==============================] - 0s 4ms/step - loss: 79.8408 - val_loss: 91.0180\n",
            "Epoch 41/200\n",
            "13/13 [==============================] - 0s 5ms/step - loss: 54.4853 - val_loss: 72.2724\n",
            "Epoch 42/200\n",
            "13/13 [==============================] - 0s 4ms/step - loss: 65.4400 - val_loss: 71.3617\n",
            "Epoch 43/200\n",
            "13/13 [==============================] - 0s 4ms/step - loss: 59.8075 - val_loss: 76.5898\n",
            "Epoch 44/200\n",
            "13/13 [==============================] - 0s 4ms/step - loss: 53.7592 - val_loss: 77.5576\n",
            "Epoch 45/200\n",
            "13/13 [==============================] - 0s 4ms/step - loss: 52.6570 - val_loss: 76.4622\n",
            "Epoch 46/200\n",
            "13/13 [==============================] - 0s 4ms/step - loss: 57.9522 - val_loss: 68.0769\n",
            "Epoch 47/200\n",
            "13/13 [==============================] - 0s 4ms/step - loss: 53.3996 - val_loss: 67.7207\n",
            "Epoch 48/200\n",
            "13/13 [==============================] - 0s 4ms/step - loss: 57.9122 - val_loss: 68.8325\n",
            "Epoch 49/200\n",
            "13/13 [==============================] - 0s 4ms/step - loss: 54.5367 - val_loss: 69.1750\n",
            "Epoch 50/200\n",
            "13/13 [==============================] - 0s 4ms/step - loss: 60.9534 - val_loss: 66.4927\n",
            "Epoch 51/200\n",
            "13/13 [==============================] - 0s 4ms/step - loss: 61.1412 - val_loss: 66.8313\n",
            "Epoch 52/200\n",
            "13/13 [==============================] - 0s 4ms/step - loss: 59.5058 - val_loss: 64.8884\n",
            "Epoch 53/200\n",
            "13/13 [==============================] - 0s 4ms/step - loss: 55.4444 - val_loss: 63.4212\n",
            "Epoch 54/200\n",
            "13/13 [==============================] - 0s 4ms/step - loss: 48.4823 - val_loss: 62.9993\n",
            "Epoch 55/200\n",
            "13/13 [==============================] - 0s 4ms/step - loss: 50.6685 - val_loss: 62.6979\n",
            "Epoch 56/200\n",
            "13/13 [==============================] - 0s 4ms/step - loss: 52.4617 - val_loss: 61.4324\n",
            "Epoch 57/200\n",
            "13/13 [==============================] - 0s 13ms/step - loss: 48.3462 - val_loss: 62.3067\n",
            "Epoch 58/200\n",
            "13/13 [==============================] - 0s 4ms/step - loss: 52.1047 - val_loss: 63.1872\n",
            "Epoch 59/200\n",
            "13/13 [==============================] - 0s 4ms/step - loss: 46.8261 - val_loss: 69.9243\n",
            "Epoch 60/200\n",
            "13/13 [==============================] - 0s 4ms/step - loss: 55.6706 - val_loss: 68.5619\n",
            "Epoch 61/200\n",
            "13/13 [==============================] - 0s 4ms/step - loss: 50.1687 - val_loss: 66.7408\n",
            "Epoch 62/200\n",
            "13/13 [==============================] - 0s 4ms/step - loss: 54.5665 - val_loss: 59.7468\n",
            "Epoch 63/200\n",
            "13/13 [==============================] - 0s 4ms/step - loss: 47.5345 - val_loss: 57.6785\n",
            "Epoch 64/200\n",
            "13/13 [==============================] - 0s 4ms/step - loss: 50.5214 - val_loss: 58.2202\n",
            "Epoch 65/200\n",
            "13/13 [==============================] - 0s 6ms/step - loss: 52.4894 - val_loss: 57.0650\n",
            "Epoch 66/200\n",
            "13/13 [==============================] - 0s 4ms/step - loss: 38.1023 - val_loss: 57.0113\n",
            "Epoch 67/200\n",
            "13/13 [==============================] - 0s 4ms/step - loss: 48.4991 - val_loss: 57.1462\n",
            "Epoch 68/200\n",
            "13/13 [==============================] - 0s 4ms/step - loss: 48.0547 - val_loss: 62.4256\n",
            "Epoch 69/200\n",
            "13/13 [==============================] - 0s 4ms/step - loss: 58.6585 - val_loss: 62.2071\n",
            "Epoch 70/200\n",
            "13/13 [==============================] - 0s 4ms/step - loss: 44.1818 - val_loss: 55.9627\n",
            "Epoch 71/200\n",
            "13/13 [==============================] - 0s 4ms/step - loss: 57.8756 - val_loss: 62.9522\n",
            "Epoch 72/200\n",
            "13/13 [==============================] - 0s 4ms/step - loss: 60.3627 - val_loss: 64.3451\n",
            "Epoch 73/200\n",
            "13/13 [==============================] - 0s 4ms/step - loss: 44.4400 - val_loss: 53.4480\n",
            "Epoch 74/200\n",
            "13/13 [==============================] - 0s 4ms/step - loss: 41.2593 - val_loss: 54.2131\n",
            "Epoch 75/200\n",
            "13/13 [==============================] - 0s 4ms/step - loss: 41.2705 - val_loss: 53.9193\n",
            "Epoch 76/200\n",
            "13/13 [==============================] - 0s 5ms/step - loss: 40.3541 - val_loss: 51.8776\n",
            "Epoch 77/200\n",
            "13/13 [==============================] - 0s 5ms/step - loss: 48.6351 - val_loss: 56.8202\n",
            "Epoch 78/200\n",
            "13/13 [==============================] - 0s 5ms/step - loss: 46.6870 - val_loss: 53.2120\n",
            "Epoch 79/200\n",
            "13/13 [==============================] - 0s 4ms/step - loss: 38.2374 - val_loss: 51.6994\n",
            "Epoch 80/200\n",
            "13/13 [==============================] - 0s 4ms/step - loss: 48.8663 - val_loss: 52.0288\n",
            "Epoch 81/200\n",
            "13/13 [==============================] - 0s 4ms/step - loss: 44.2328 - val_loss: 53.0304\n",
            "Epoch 82/200\n",
            "13/13 [==============================] - 0s 4ms/step - loss: 44.5459 - val_loss: 52.2725\n",
            "Epoch 83/200\n",
            "13/13 [==============================] - 0s 4ms/step - loss: 45.1928 - val_loss: 51.7295\n",
            "Epoch 84/200\n",
            "13/13 [==============================] - 0s 4ms/step - loss: 40.1888 - val_loss: 53.6309\n",
            "Epoch 85/200\n",
            "13/13 [==============================] - 0s 5ms/step - loss: 51.7233 - val_loss: 55.4126\n",
            "Epoch 86/200\n",
            "13/13 [==============================] - 0s 4ms/step - loss: 48.6935 - val_loss: 50.9534\n",
            "Epoch 87/200\n",
            "13/13 [==============================] - 0s 4ms/step - loss: 51.9579 - val_loss: 58.7435\n",
            "Epoch 88/200\n",
            "13/13 [==============================] - 0s 4ms/step - loss: 38.9116 - val_loss: 54.4952\n",
            "Epoch 89/200\n",
            "13/13 [==============================] - 0s 5ms/step - loss: 49.7560 - val_loss: 54.5564\n",
            "Epoch 90/200\n",
            "13/13 [==============================] - 0s 4ms/step - loss: 40.9121 - val_loss: 48.8849\n",
            "Epoch 91/200\n",
            "13/13 [==============================] - 0s 4ms/step - loss: 38.0627 - val_loss: 49.2335\n",
            "Epoch 92/200\n",
            "13/13 [==============================] - 0s 4ms/step - loss: 50.3074 - val_loss: 48.7082\n",
            "Epoch 93/200\n",
            "13/13 [==============================] - 0s 4ms/step - loss: 49.7207 - val_loss: 47.4083\n",
            "Epoch 94/200\n",
            "13/13 [==============================] - 0s 4ms/step - loss: 45.8057 - val_loss: 48.1132\n",
            "Epoch 95/200\n",
            "13/13 [==============================] - 0s 4ms/step - loss: 36.3503 - val_loss: 48.1632\n",
            "Epoch 96/200\n",
            "13/13 [==============================] - 0s 4ms/step - loss: 36.8579 - val_loss: 49.8332\n",
            "Epoch 97/200\n",
            "13/13 [==============================] - 0s 4ms/step - loss: 47.1928 - val_loss: 46.7942\n",
            "Epoch 98/200\n",
            "13/13 [==============================] - 0s 4ms/step - loss: 36.9612 - val_loss: 47.2427\n",
            "Epoch 99/200\n",
            "13/13 [==============================] - 0s 4ms/step - loss: 51.1281 - val_loss: 47.5828\n",
            "Epoch 100/200\n",
            "13/13 [==============================] - 0s 4ms/step - loss: 41.8860 - val_loss: 47.4987\n",
            "Epoch 101/200\n",
            "13/13 [==============================] - 0s 4ms/step - loss: 39.8396 - val_loss: 52.6096\n",
            "Epoch 102/200\n",
            "13/13 [==============================] - 0s 4ms/step - loss: 45.7806 - val_loss: 47.5718\n",
            "Epoch 103/200\n",
            "13/13 [==============================] - 0s 5ms/step - loss: 39.7505 - val_loss: 45.8001\n",
            "Epoch 104/200\n",
            "13/13 [==============================] - 0s 4ms/step - loss: 42.2710 - val_loss: 46.0964\n",
            "Epoch 105/200\n",
            "13/13 [==============================] - 0s 4ms/step - loss: 39.8460 - val_loss: 53.0130\n",
            "Epoch 106/200\n",
            "13/13 [==============================] - 0s 4ms/step - loss: 42.8442 - val_loss: 45.5756\n",
            "Epoch 107/200\n",
            "13/13 [==============================] - 0s 5ms/step - loss: 40.7408 - val_loss: 45.7126\n",
            "Epoch 108/200\n",
            "13/13 [==============================] - 0s 4ms/step - loss: 37.0458 - val_loss: 45.2948\n",
            "Epoch 109/200\n",
            "13/13 [==============================] - 0s 13ms/step - loss: 39.1808 - val_loss: 50.3652\n",
            "Epoch 110/200\n",
            "13/13 [==============================] - 0s 4ms/step - loss: 34.6772 - val_loss: 45.2967\n",
            "Epoch 111/200\n",
            "13/13 [==============================] - 0s 4ms/step - loss: 36.3840 - val_loss: 45.1380\n",
            "Epoch 112/200\n",
            "13/13 [==============================] - 0s 4ms/step - loss: 32.8278 - val_loss: 46.1853\n",
            "Epoch 113/200\n",
            "13/13 [==============================] - 0s 5ms/step - loss: 39.6651 - val_loss: 43.7831\n",
            "Epoch 114/200\n",
            "13/13 [==============================] - 0s 4ms/step - loss: 41.5288 - val_loss: 46.2713\n",
            "Epoch 115/200\n",
            "13/13 [==============================] - 0s 4ms/step - loss: 43.4380 - val_loss: 45.4425\n",
            "Epoch 116/200\n",
            "13/13 [==============================] - 0s 5ms/step - loss: 33.7919 - val_loss: 44.0064\n",
            "Epoch 117/200\n",
            "13/13 [==============================] - 0s 4ms/step - loss: 39.0510 - val_loss: 46.7138\n",
            "Epoch 118/200\n",
            "13/13 [==============================] - 0s 4ms/step - loss: 34.5126 - val_loss: 43.5643\n",
            "Epoch 119/200\n",
            "13/13 [==============================] - 0s 4ms/step - loss: 37.3225 - val_loss: 43.2607\n",
            "Epoch 120/200\n",
            "13/13 [==============================] - 0s 4ms/step - loss: 43.0075 - val_loss: 43.3970\n",
            "Epoch 121/200\n",
            "13/13 [==============================] - 0s 4ms/step - loss: 33.1957 - val_loss: 43.2808\n",
            "Epoch 122/200\n",
            "13/13 [==============================] - 0s 4ms/step - loss: 30.6795 - val_loss: 43.8415\n",
            "Epoch 123/200\n",
            "13/13 [==============================] - 0s 5ms/step - loss: 30.8288 - val_loss: 44.4516\n",
            "Epoch 124/200\n",
            "13/13 [==============================] - 0s 4ms/step - loss: 39.0888 - val_loss: 44.4211\n",
            "Epoch 125/200\n",
            "13/13 [==============================] - 0s 4ms/step - loss: 35.2946 - val_loss: 43.5813\n",
            "Epoch 126/200\n",
            "13/13 [==============================] - 0s 4ms/step - loss: 34.2910 - val_loss: 43.5440\n",
            "Epoch 127/200\n",
            "13/13 [==============================] - 0s 4ms/step - loss: 37.6145 - val_loss: 42.3905\n",
            "Epoch 128/200\n",
            "13/13 [==============================] - 0s 5ms/step - loss: 35.0683 - val_loss: 43.1433\n",
            "Epoch 129/200\n",
            "13/13 [==============================] - 0s 4ms/step - loss: 37.9752 - val_loss: 43.4735\n",
            "Epoch 130/200\n",
            "13/13 [==============================] - 0s 4ms/step - loss: 47.6904 - val_loss: 41.7526\n",
            "Epoch 131/200\n",
            "13/13 [==============================] - 0s 4ms/step - loss: 33.5330 - val_loss: 42.6306\n",
            "Epoch 132/200\n",
            "13/13 [==============================] - 0s 4ms/step - loss: 41.2459 - val_loss: 43.8441\n",
            "Epoch 133/200\n",
            "13/13 [==============================] - 0s 4ms/step - loss: 33.0875 - val_loss: 43.1517\n",
            "Epoch 134/200\n",
            "13/13 [==============================] - 0s 4ms/step - loss: 34.8372 - val_loss: 40.8453\n",
            "Epoch 135/200\n",
            "13/13 [==============================] - 0s 4ms/step - loss: 34.0412 - val_loss: 46.1068\n",
            "Epoch 136/200\n",
            "13/13 [==============================] - 0s 5ms/step - loss: 34.4986 - val_loss: 41.4811\n",
            "Epoch 137/200\n",
            "13/13 [==============================] - 0s 4ms/step - loss: 33.8379 - val_loss: 41.4739\n",
            "Epoch 138/200\n",
            "13/13 [==============================] - 0s 4ms/step - loss: 27.9974 - val_loss: 44.0031\n",
            "Epoch 139/200\n",
            "13/13 [==============================] - 0s 4ms/step - loss: 32.1311 - val_loss: 47.0592\n",
            "Epoch 140/200\n",
            "13/13 [==============================] - 0s 5ms/step - loss: 33.9466 - val_loss: 41.2638\n",
            "Epoch 141/200\n",
            "13/13 [==============================] - 0s 5ms/step - loss: 40.1792 - val_loss: 40.8812\n",
            "Epoch 142/200\n",
            "13/13 [==============================] - 0s 4ms/step - loss: 35.0005 - val_loss: 40.9959\n",
            "Epoch 143/200\n",
            "13/13 [==============================] - 0s 4ms/step - loss: 33.5098 - val_loss: 44.8086\n",
            "Epoch 144/200\n",
            "13/13 [==============================] - 0s 4ms/step - loss: 43.5539 - val_loss: 42.0983\n"
          ],
          "name": "stdout"
        },
        {
          "output_type": "execute_result",
          "data": {
            "text/plain": [
              "<tensorflow.python.keras.callbacks.History at 0x7f93d5bad0b8>"
            ]
          },
          "metadata": {
            "tags": []
          },
          "execution_count": 16
        }
      ]
    },
    {
      "cell_type": "markdown",
      "metadata": {
        "id": "xEvJVTUR1_dZ"
      },
      "source": [
        "By allowing the model to train for more epoches and leverage EarlyStopping to force the training to stop when there's no more improvements, we got a slightly lower loss (better results) and there doesn't seem to be any overfitting happening during training (mainly due to the simple architecture of the model)."
      ]
    },
    {
      "cell_type": "code",
      "metadata": {
        "id": "CqMyFTYk2TdG"
      },
      "source": [
        "df = pd.DataFrame(model_w_callbacks.history.history)"
      ],
      "execution_count": 17,
      "outputs": []
    },
    {
      "cell_type": "code",
      "metadata": {
        "colab": {
          "base_uri": "https://localhost:8080/",
          "height": 282
        },
        "id": "4ogpAXV12Z7s",
        "outputId": "d4e7d780-381f-4ce0-94e8-3e9740a88789"
      },
      "source": [
        "df.iloc[10:].plot.line()"
      ],
      "execution_count": 18,
      "outputs": [
        {
          "output_type": "execute_result",
          "data": {
            "text/plain": [
              "<matplotlib.axes._subplots.AxesSubplot at 0x7f93ce1e8588>"
            ]
          },
          "metadata": {
            "tags": []
          },
          "execution_count": 18
        },
        {
          "output_type": "display_data",
          "data": {
            "image/png": "[encoded data removed]",
            "text/plain": [
              "<Figure size 432x288 with 1 Axes>"
            ]
          },
          "metadata": {
            "tags": [],
            "needs_background": "light"
          }
        }
      ]
    }
  ]
}