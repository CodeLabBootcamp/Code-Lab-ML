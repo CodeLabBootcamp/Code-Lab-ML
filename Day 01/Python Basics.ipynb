{
  "nbformat": 4,
  "nbformat_minor": 0,
  "metadata": {
    "colab": {
      "name": "Python Basics",
      "provenance": [],
      "collapsed_sections": []
    },
    "kernelspec": {
      "display_name": "Python 3",
      "language": "python",
      "name": "python3"
    },
    "language_info": {
      "codemirror_mode": {
        "name": "ipython",
        "version": 3
      },
      "file_extension": ".py",
      "mimetype": "text/x-python",
      "name": "python",
      "nbconvert_exporter": "python",
      "pygments_lexer": "ipython3",
      "version": "3.7.9-final"
    }
  },
  "cells": [
    {
      "cell_type": "markdown",
      "metadata": {
        "id": "_A0Wf196SCJ1"
      },
      "source": [
        "# Code Lab Day 01 - Python Basics\n"
      ]
    },
    {
      "cell_type": "markdown",
      "metadata": {
        "id": "cawiwz685mPw"
      },
      "source": [
        "## Primitive Data types and operations\n",
        "\n",
        "As in most programming languages, each data value in a Python program has a **data type**.\n",
        "For a given data value, we can get its type using the `type` function."
      ]
    },
    {
      "cell_type": "code",
      "metadata": {
        "id": "4RUfCH9A5mPw",
        "pycharm": {
          "is_executing": false
        },
        "outputId": "1f84097f-d86b-463d-f390-d9786ea5e164"
      },
      "source": [
        "print(type(1))  # an integer\n",
        "print(type(2.0)) # a float\n",
        "print(type(\"hi!\")) # a string\n",
        "print(type(True)) # a boolean value \n",
        "print(type([1,2,3,4,5])) # a list (a mutable collection)\n",
        "print(type((1,2,3,4,5))) # a tuple (an immutable collection)\n",
        "print(type({\"fname\":\"john\", \"lname\":\"doe\"})) # a dictionary (a collection of key-value pairs)"
      ],
      "execution_count": 1,
      "outputs": [
        {
          "output_type": "stream",
          "name": "stdout",
          "text": [
            "<class 'int'>\n<class 'float'>\n<class 'str'>\n<class 'bool'>\n<class 'list'>\n<class 'tuple'>\n<class 'dict'>\n"
          ]
        }
      ]
    },
    {
      "cell_type": "markdown",
      "metadata": {
        "id": "MU1GP1vi5mP3"
      },
      "source": [
        "The basic numerical data types of python are:\n",
        "*  `int` (integer values), \n",
        "*  `float` (floating point numbers), and \n",
        "*  `complex` (complex numbers). "
      ]
    },
    {
      "cell_type": "code",
      "metadata": {
        "id": "s7nIy4hq5mP4",
        "pycharm": {
          "is_executing": false
        },
        "outputId": "56497748-b297-4cd5-d63b-bc279eb7c428"
      },
      "source": [
        "x = 1\n",
        "y = 1.0\n",
        "z = 1 + 2j\n",
        "w = 1E10\n",
        "v = 1.\n",
        "u = 2j\n",
        "print(type(x), \": \", x)\n",
        "print(type(y), \": \", y)\n",
        "print(type(z), \": \", z)\n",
        "print(type(w), \": \", w)\n",
        "print(type(v), \": \", v)\n",
        "print(type(u), \": \", u)\n"
      ],
      "execution_count": 2,
      "outputs": [
        {
          "output_type": "stream",
          "name": "stdout",
          "text": [
            "<class 'int'> :  1\n<class 'float'> :  1.0\n<class 'complex'> :  (1+2j)\n<class 'float'> :  10000000000.0\n<class 'complex'> :  1.0\n<class 'complex'> :  2j\n"
          ]
        }
      ]
    },
    {
      "cell_type": "markdown",
      "metadata": {
        "id": "UeKvxBCX5mP_"
      },
      "source": [
        "The arithmetic operations available in most languages are also present in Python (with a default precedence on operations). "
      ]
    },
    {
      "cell_type": "code",
      "metadata": {
        "id": "ytoO_HRO5mQA",
        "pycharm": {
          "is_executing": false
        },
        "outputId": "bf5811ae-6b75-4d94-9ee6-09f169d1f6df"
      },
      "source": [
        "print(1+3-(3-2)) # simple addition and subtraction\n",
        "print(4*2.0) # multiplication of an int and a float (the result is a float)\n",
        "print(5/2) # floating point division\n",
        "print(5.6//2) # integer division\n",
        "print(type(5.6//2)) # the result is an float\n",
        "print(5 % 2) # modulo operator (division remainder)\n",
        "print(2**4) # exponentiation"
      ],
      "execution_count": 3,
      "outputs": [
        {
          "output_type": "stream",
          "name": "stdout",
          "text": [
            "3\n8.0\n2.5\n2.0\n<class 'float'>\n1\n16\n"
          ]
        }
      ]
    },
    {
      "cell_type": "markdown",
      "metadata": {
        "id": "085YrXK45mQn"
      },
      "source": [
        "Strings in Python (datatype `str`) can be enclosed in single (`'`) or double (`\"`) quotes. It doesn't matter which is used, but the opening and closing marks must be of the same type. The backslash `\\` is used to escape quotes in a string as well as to indicate other escape characters (e.g., `\\n` indicates a new line). "
      ]
    },
    {
      "cell_type": "code",
      "metadata": {
        "id": "cBcNDZT_5mQo",
        "pycharm": {
          "is_executing": false
        },
        "outputId": "2dff85dc-69c7-4941-d71f-c0d0b0d3a72f"
      },
      "source": [
        "print(\"This is a string\")\n",
        "print('this is a string containing \"quotes\"')\n",
        "print(\"this is another string containing \\\"quotes\\\"\")\n",
        "print(\"this is string\\nhas two lines\")"
      ],
      "execution_count": 4,
      "outputs": [
        {
          "output_type": "stream",
          "name": "stdout",
          "text": [
            "This is a string\n",
            "this is a string containing \"quotes\"\n",
            "this is another string containing \"quotes\"\n",
            "this is string\n",
            "has two lines\n"
          ]
        }
      ]
    },
    {
      "cell_type": "markdown",
      "metadata": {
        "id": "nGOg3lIX5mQt"
      },
      "source": [
        "To prevent processing of escape characters, you can use indicate a *raw* string by putting an `r` before the string. "
      ]
    },
    {
      "cell_type": "code",
      "metadata": {
        "id": "gLeRn9c75mQu",
        "pycharm": {
          "is_executing": false
        },
        "outputId": "10602987-1690-467c-d59d-da3c603d9832"
      },
      "source": [
        "print(r\"this is string\\nhas only one line\")"
      ],
      "execution_count": 5,
      "outputs": [
        {
          "output_type": "stream",
          "name": "stdout",
          "text": [
            "this is string\\nhas only one line\n"
          ]
        }
      ]
    },
    {
      "cell_type": "markdown",
      "metadata": {
        "id": "x0pJwehS5mQy"
      },
      "source": [
        "Multiline strings can be delineated using 3 quotes. If you do not wish to include a line end in the output, you can end the line with `\\`."
      ]
    },
    {
      "cell_type": "code",
      "metadata": {
        "id": "JSJmAq_n5mQz",
        "pycharm": {
          "is_executing": false
        },
        "outputId": "c1b8107e-6114-4bca-88fc-b849b3040fcd"
      },
      "source": [
        "print(\"\"\"Line 1\n",
        "Line 2\n",
        "Line 3\\\n",
        "Line 3 continued\"\"\")"
      ],
      "execution_count": 6,
      "outputs": [
        {
          "output_type": "stream",
          "name": "stdout",
          "text": [
            "Line 1\nLine 2\nLine 3Line 3 continued\n"
          ]
        }
      ]
    },
    {
      "cell_type": "markdown",
      "metadata": {
        "id": "EFg25iKI5mQ3"
      },
      "source": [
        "#### String Concatenation \n",
        "Strings can be concatenated. You must be careful when trying to concatenate other types to a string, however. They must be \n",
        "converted to strings first using `str()`. "
      ]
    },
    {
      "cell_type": "code",
      "metadata": {
        "id": "rUTCbY-D5mQ4",
        "pycharm": {
          "is_executing": false
        },
        "outputId": "717a9fe0-7595-4b2a-cebc-49c1dcfd5427"
      },
      "source": [
        "print(\"This\" + \" line contains \" + str(4) + \" components\")\n",
        "print(\"Here are some things converted to strings: \" + str(2.3) + \", \" + str(True) + \", \" + str((1,2)))\n",
        "print(\"This\" , \"line contains\" , 4, \"components\")\n",
        "print(\"Here are some things converted to strings:\", 2.3, \",\", True, \",\", (1,2))\n"
      ],
      "execution_count": 7,
      "outputs": [
        {
          "output_type": "stream",
          "name": "stdout",
          "text": [
            "This line contains 4 components\nHere are some things converted to strings: 2.3, True, (1, 2)\nThis line contains 4 components\nHere are some things converted to strings: 2.3 , True , (1, 2)\n"
          ]
        }
      ]
    },
    {
      "cell_type": "markdown",
      "metadata": {
        "id": "f47-8VYu5mRG"
      },
      "source": [
        "You can also create a string from another string by *multiplying* it with a number"
      ]
    },
    {
      "cell_type": "markdown",
      "metadata": {
        "id": "R458fAKX5mRQ"
      },
      "source": [
        "A character of a string can be extracted using an index (starting at 0), and a substring can be extracted using **slices**. Slices indicate a range of indexes. The notation is similar to that used for arrays in other languages.\n",
        "\n",
        "It also happens that indexing from the right (staring at -1) is possible. "
      ]
    },
    {
      "cell_type": "code",
      "metadata": {
        "id": "gKf3Zxlp5mRQ",
        "pycharm": {
          "is_executing": false
        },
        "outputId": "1261563c-beda-4f77-c37a-404be94fb917"
      },
      "source": [
        "string1 = \"this is the way the world ends.\"\n",
        "print(string1[12]) # the substring at index 12 (1 character).\n",
        "print(string1[0:4]) # from the start of the string to index 4 (but 4 is excluded).\n",
        "print(string1[5:]) # from index 5 to the end of the string.  \n",
        "print(string1[:4]) # from the start of the string to index 4 (exclusive).\n",
        "print(string1[-1]) # The last character of the string. \n",
        "print(string1[-5:-1]) # from index -5 to -1 (but excluding -1).\n",
        "print(string1[-5:]) # from index -5 to the end of the string."
      ],
      "execution_count": 8,
      "outputs": [
        {
          "output_type": "stream",
          "name": "stdout",
          "text": [
            "w\nthis\nis the way the world ends.\nthis\n.\nends\nends.\n"
          ]
        }
      ]
    },
    {
      "cell_type": "markdown",
      "metadata": {
        "id": "IPJ2uPbp5mRf"
      },
      "source": [
        "It's often the case that we want to split strings into multiple substrings, e.g., when reading a comma-delimited list of values. The `split` method of a string does just that. It retuns a list object (lists are covered later). \n",
        "\n",
        "To combine strings using a delimeter (e.g., to create a comma-delimited list), we can use `join`. "
      ]
    },
    {
      "cell_type": "code",
      "metadata": {
        "id": "2oNgBBMi5mRg",
        "pycharm": {
          "is_executing": false
        },
        "outputId": "cb0d84c2-ecda-4670-bf13-6032d4c67223"
      },
      "source": [
        "text = \"The quick brown fox jumped over the lazy dog\"\n",
        "spl = text.split() # This returns a list of strings (lists are covered later)\n",
        "print(spl)\n",
        "joined = \",\".join(spl)\n",
        "print(joined) # and this re-joins them, separating words with commas \n",
        "spl = joined.split(\",\") # and this re-splits them, again based on commas\n",
        "print(spl)\n",
        "joined = \"-\".join(spl) # and this re-joins them, separating words with dashes \n",
        "print(joined) \n"
      ],
      "execution_count": 9,
      "outputs": [
        {
          "output_type": "stream",
          "name": "stdout",
          "text": [
            "['The', 'quick', 'brown', 'fox', 'jumped', 'over', 'the', 'lazy', 'dog']\nThe,quick,brown,fox,jumped,over,the,lazy,dog\n['The', 'quick', 'brown', 'fox', 'jumped', 'over', 'the', 'lazy', 'dog']\nThe-quick-brown-fox-jumped-over-the-lazy-dog\n"
          ]
        }
      ]
    },
    {
      "cell_type": "markdown",
      "metadata": {
        "id": "Y-ctZsPD5mRr"
      },
      "source": [
        "Python has two Boolean values, `True` and `False`. The normal logical operations (`and`, `or`, `not`) are present. "
      ]
    },
    {
      "cell_type": "code",
      "metadata": {
        "id": "sO_e9UBP5mRr",
        "pycharm": {
          "is_executing": false
        },
        "outputId": "a407de65-e0a6-4325-bc95-7c45413c8eab"
      },
      "source": [
        "print(True and False)\n",
        "print(True or False)\n",
        "print(not True)"
      ],
      "execution_count": 10,
      "outputs": [
        {
          "output_type": "stream",
          "name": "stdout",
          "text": [
            "False\nTrue\nFalse\n"
          ]
        }
      ]
    },
    {
      "cell_type": "markdown",
      "metadata": {
        "id": "7gc7lEz45mSA"
      },
      "source": [
        "Values of certain data types can be converted to values of other datatypes (actually, a new value of the desired data type is produced). If the conversion cannot take place (becuase the datatypes are incompatible), an exception will be raised."
      ]
    },
    {
      "cell_type": "code",
      "metadata": {
        "id": "qdRO7ryn5mSB",
        "pycharm": {
          "is_executing": false
        }
      },
      "source": [
        "x = 1\n",
        "s = str(x) # convert x to a string\n",
        "s_int = int(s)\n",
        "s_float = float(s)\n",
        "s_comp = complex(s)\n",
        "x_float  = float(x)\n",
        "\n",
        "print(s) \n",
        "print(s_int) # convert to an integer\n",
        "print(s_float) # convert to a floating point number\n",
        "print(s_comp) # convert to a complext number\n",
        "print(x_float)\n",
        "\n",
        "# Let's check their IDs\n",
        "print(id(x))\n",
        "print(id(s))\n",
        "print(id(s_int))\n",
        "print(id(s_float))\n",
        "print(id(x_float))\n",
        "print(id(int(x_float)))"
      ],
      "execution_count": 11,
      "outputs": [
        {
          "output_type": "stream",
          "name": "stdout",
          "text": [
            "1\n1\n1.0\n(1+0j)\n1.0\n4361591712\n4396429168\n4361591712\n4395673872\n4395673456\n4361591712\n"
          ]
        }
      ]
    },
    {
      "cell_type": "markdown",
      "metadata": {
        "id": "Zp9QbDbjk82G"
      },
      "source": [
        "## Lists,Tuples, Sets, and Dictionaries\n",
        "\n",
        "\n",
        "Many languages (e.g., Java) have what are often called **arrays**. In Python the object most like them are called **lists**. Like arrays in other languages, Python lists are represented syntactically using `[...]` blocks. Their elements can be referenced via indexes, and just like arrays in other languages, Python lists are **mutable** objects. That is, it is possible to change the value of an individual cell in a list."
      ]
    },
    {
      "cell_type": "code",
      "metadata": {
        "id": "xWAzyBD-k-mn",
        "outputId": "1957286a-a8f4-4fc7-db66-4cab19e83a32"
      },
      "source": [
        "a = [0, 1, 2, 3] #  a list of integers\n",
        "print(a)\n",
        "a[0] = 3 # overwrite the first element of the list\n",
        "print(a)"
      ],
      "execution_count": 12,
      "outputs": [
        {
          "output_type": "stream",
          "name": "stdout",
          "text": [
            "[0, 1, 2, 3]\n[3, 1, 2, 3]\n"
          ]
        }
      ]
    },
    {
      "cell_type": "markdown",
      "metadata": {
        "id": "R3_GQ3SelXV4"
      },
      "source": [
        "Note that some operations on lists return other lists"
      ]
    },
    {
      "cell_type": "code",
      "metadata": {
        "id": "ILCxMUTjlkj8"
      },
      "source": [
        "a = [1,2,3]\n",
        "b = [4,5,6]\n",
        "c = a + b  \n",
        "print(a)\n",
        "print(b)\n",
        "print(c)"
      ],
      "execution_count": 13,
      "outputs": [
        {
          "output_type": "stream",
          "name": "stdout",
          "text": [
            "[1, 2, 3]\n[4, 5, 6]\n[1, 2, 3, 4, 5, 6]\n"
          ]
        }
      ]
    },
    {
      "cell_type": "markdown",
      "metadata": {
        "id": "um8wqxwOlonk"
      },
      "source": [
        "The length of a list can be obtained using `len()`, and a single element can be added to a list using `append()`. Note the syntax used for each. "
      ]
    },
    {
      "cell_type": "code",
      "metadata": {
        "id": "aIXJ3csBlent"
      },
      "source": [
        "a = []\n",
        "a.append(1) # add an element to the end of the list. \n",
        "a.append(2)\n",
        "a.append([3,4])\n",
        "print(a)\n",
        "print(\"length of 'a': \", len(a))"
      ],
      "execution_count": 14,
      "outputs": [
        {
          "output_type": "stream",
          "name": "stdout",
          "text": [
            "[1, 2, [3, 4]]\nlength of 'a':  3\n"
          ]
        }
      ]
    },
    {
      "cell_type": "markdown",
      "metadata": {
        "id": "4kMCJ1QgleUW"
      },
      "source": [
        "Some additional list operations are shown below. Pay careful attention to how `a` and `b` are related."
      ]
    },
    {
      "cell_type": "code",
      "metadata": {
        "id": "XvHVwTUtlvck"
      },
      "source": [
        "a = [10]\n",
        "a.extend([11,12]) # append elements of one list to the end of another one. \n",
        "b = a\n",
        "c = a.copy() # copy the elements of a to a new list, and then assign it to c. \n",
        "b[0] = 20 \n",
        "c[0] = 30\n",
        "print(\"a:\", a)\n",
        "print(\"b:\", b)\n",
        "print(\"c:\", c)"
      ],
      "execution_count": 15,
      "outputs": [
        {
          "output_type": "stream",
          "name": "stdout",
          "text": [
            "a: [20, 11, 12]\nb: [20, 11, 12]\nc: [30, 11, 12]\n"
          ]
        }
      ]
    },
    {
      "cell_type": "markdown",
      "metadata": {
        "id": "rYieZslClzMq"
      },
      "source": [
        "More lists operations can be found here: "
      ]
    },
    {
      "cell_type": "code",
      "metadata": {
        "id": "Q30_Xh2tlyDB"
      },
      "source": [
        "More lists functions can be found here: https://www.w3schools.com/python/python_ref_list.asp"
      ],
      "execution_count": 16,
      "outputs": [
        {
          "output_type": "error",
          "ename": "SyntaxError",
          "evalue": "invalid syntax (<ipython-input-16-897303ad41bb>, line 1)",
          "traceback": [
            "\u001b[0;36m  File \u001b[0;32m\"<ipython-input-16-897303ad41bb>\"\u001b[0;36m, line \u001b[0;32m1\u001b[0m\n\u001b[0;31m    More lists functions can be found here: https://www.w3schools.com/python/python_ref_list.asp\u001b[0m\n\u001b[0m             ^\u001b[0m\n\u001b[0;31mSyntaxError\u001b[0m\u001b[0;31m:\u001b[0m invalid syntax\n"
          ]
        }
      ]
    },
    {
      "cell_type": "markdown",
      "metadata": {
        "id": "XtM2bUoRmSSM"
      },
      "source": [
        "There also exists an immutable counterpart to a list, the **tuple**.  Elements can also be referenced by index, but (as with Python strings) new values cannot be assigned. Unlike a list, Tuples are created using either `(...)` or simply by using a comma-delimeted sequence of 1 or more elements.   "
      ]
    },
    {
      "cell_type": "code",
      "metadata": {
        "id": "fnNYnIalmUqo"
      },
      "source": [
        "a = () # the empty tuple\n",
        "b = (1, 2) # a tuple of 2 elements\n",
        "c = 3, 4, 5 # another way of creating a tuple. \n",
        "d = 6, # a singleton tuple\n",
        "e = (7,) # another singleton tuple\n",
        "print(a)\n",
        "print(b)\n",
        "print(c)\n",
        "print(d) \n",
        "print(len(d))\n",
        "print(e)\n",
        "print(b[1])\n"
      ],
      "execution_count": null,
      "outputs": []
    },
    {
      "cell_type": "markdown",
      "metadata": {
        "id": "TwgrsgbUmaom"
      },
      "source": [
        "Sets, created using `{...}` or `set(...)` in Python, are unordered collections without duplicate elements. If the same element is added again, the set will not change. \n"
      ]
    },
    {
      "cell_type": "code",
      "metadata": {
        "id": "Xzk8y-8NmbQh"
      },
      "source": [
        "a = {'a','b', 'c', 'd'} # create a new set containing these elements\n",
        "b = set('hello world') # create a set containing the distinct characters of 'hello world'\n",
        "print(a) \n",
        "print(b)\n",
        "print(a | b) # print the union of a and b. \n",
        "print(a & b) # print the intersection of a and b.\n",
        "print(a - b) # print elements of a not in b\n",
        "print(b - a) # print elements of b not in a.\n",
        "print(b ^ a) # print elements in either but not both."
      ],
      "execution_count": null,
      "outputs": []
    },
    {
      "cell_type": "markdown",
      "metadata": {
        "id": "x3cCU7VVmdAf"
      },
      "source": [
        "Dictionaries are collections of key-value pairs. A dictionary can be created using `d = {key1:value1, key2:value2, ...}` syntax, or else from 2-ary tuples using `dictionary()`. New key value pairs can be assigned, and old values referenced, using `d[key]`. "
      ]
    },
    {
      "cell_type": "code",
      "metadata": {
        "id": "hQjpLGcpmezE"
      },
      "source": [
        "employee = {'last':'smth', 'first':'joe'} \n",
        "employee['middle'] = 'william'\n",
        "employee['last'] = 'smith'\n",
        "addr = {} # an empty dictionary\n",
        "addr['number'] = 1234 \n",
        "addr['street'] = \"Elm St\"\n",
        "addr['city'] = \"Athens\"\n",
        "addr['state'] = \"GA\"\n",
        "addr['zip'] = \"30602\"\n",
        "employee[\"address\"] = addr\n",
        "print(employee)\n",
        "keys= list(employee.keys()) # list the keys of 'employee'\n",
        "print(\"keys: \" + str(sorted(keys)))\n",
        "print('last' in keys) # Print whether 'last' is in keys or not (prints True or False)\n",
        "print('lastt' in keys) # Print whether 'lastt' is in keys or not (prints True or False)\n",
        "\n",
        "employee2 = employee.copy() # create a shallow copy of the employee\n",
        "employee2[\"last\"] =\"jones\" \n",
        "employee2[\"address\"][\"street\"] =\"beech\" # reassign the street name of the employee's address. \n",
        "print(employee)\n",
        "print(employee2)"
      ],
      "execution_count": null,
      "outputs": []
    },
    {
      "cell_type": "markdown",
      "metadata": {
        "id": "gA2o6bj4my3E"
      },
      "source": [
        "## Functions\n",
        "\n",
        "Below is the definition of a small Python **function** that takes two numbers as arguments and returns their squared difference. \n"
      ]
    },
    {
      "cell_type": "code",
      "metadata": {
        "id": "h9H8ECk2m1nU"
      },
      "source": [
        "def square(a):\n",
        "    return a**2"
      ],
      "execution_count": null,
      "outputs": []
    },
    {
      "cell_type": "markdown",
      "metadata": {
        "id": "sV6FA5Qbm-zt"
      },
      "source": [
        "Once defined, the function can be invoked any number of times. "
      ]
    },
    {
      "cell_type": "code",
      "metadata": {
        "id": "IVtkIFiim9GQ"
      },
      "source": [
        "print(square(5))\n",
        "print(square(3))"
      ],
      "execution_count": null,
      "outputs": []
    },
    {
      "cell_type": "markdown",
      "metadata": {
        "id": "P-jGrbpFnD0v"
      },
      "source": [
        "It's possible to define functions within other functions, and even assign the function to a variable (thereby creating an alias for it). In the below example, `outer` actually returns a new function, created from argument `a`. The new function is assigned to `y` and then invoked. "
      ]
    },
    {
      "cell_type": "code",
      "metadata": {
        "id": "YvIzNx-0nEW9"
      },
      "source": [
        "def outer(a):\n",
        "    def inner(b): \n",
        "        return a + b\n",
        "    x = inner\n",
        "    return x\n",
        "y = outer(2)\n",
        "print(y(3))"
      ],
      "execution_count": null,
      "outputs": []
    },
    {
      "cell_type": "markdown",
      "metadata": {
        "id": "4_BDGLQZnHkR"
      },
      "source": [
        "Functions can be defined to allow a variable number of arguments. One way of doing this is to use default values as indicated below "
      ]
    },
    {
      "cell_type": "code",
      "metadata": {
        "id": "ZuELEhennLWT"
      },
      "source": [
        "def f1(a=1, b=2, c=3):\n",
        "    return a+b+c;\n",
        "print(f1()) # returns 6\n",
        "print(f1(2)) # returns 7\n",
        "print(f1(1,4)) # returns 8\n",
        "print(f1(3,4,2)) #returns 9 "
      ],
      "execution_count": null,
      "outputs": []
    },
    {
      "cell_type": "markdown",
      "metadata": {
        "id": "xfWASH2jnP92"
      },
      "source": [
        "Key value pairs can also be used as arguments, both in the definition of the function *and its invocation*. This permits arguments to be referenced by name. When invoked in this fashion, the order of the arguments does not matter. \n",
        "\n",
        "Note that if key-value pairs are only used for some arguments, they must appear *after* all positional arguments. "
      ]
    },
    {
      "cell_type": "code",
      "metadata": {
        "id": "ewgtQZYxnQv6"
      },
      "source": [
        "def f2(a, b=2, c=3):\n",
        "    print(  ' a = ' + str(a) +\n",
        "            ' b = ' + str(b) +\n",
        "            ' c = ' + str(c))\n",
        "\n",
        "f2(0)\n",
        "f2(3,2,1)\n",
        "f2(b=2,a=1,c=3)\n",
        "f2(4,c=6,b=5)"
      ],
      "execution_count": null,
      "outputs": []
    },
    {
      "cell_type": "markdown",
      "metadata": {
        "id": "gK7_qCRcnWPS"
      },
      "source": [
        "In a function definition, a formal argument of the form `*variablename` will collect all optional positional arguments and put them into a list. Similarly, a formal argument of the form `**variablename` will collect all optional keyword arguments and put them into a dictionary. "
      ]
    },
    {
      "cell_type": "code",
      "metadata": {
        "id": "sy8fO1drnW8g"
      },
      "source": [
        "def f4(arg1, arg2, *positional_args, c, **keyword_args):\n",
        "    print(arg1)\n",
        "    print(arg2)\n",
        "    print(positional_args)\n",
        "    print(c)\n",
        "    print(keyword_args)\n",
        "\n",
        "f4(1,2,3,4,a=5,b=6,c = 7)\n",
        "\n"
      ],
      "execution_count": null,
      "outputs": []
    },
    {
      "cell_type": "markdown",
      "metadata": {
        "id": "B8qSedzJnjOP"
      },
      "source": [
        "We can also pass tuples and dictionaries and positional arguments and keyword arguments directly"
      ]
    },
    {
      "cell_type": "code",
      "metadata": {
        "id": "zm4ckP1cnn_Z"
      },
      "source": [
        "x = (1,2,3,4)\n",
        "y = {'a':'b', 'c':'d'}\n",
        "f4(*x,**y)"
      ],
      "execution_count": null,
      "outputs": []
    },
    {
      "cell_type": "markdown",
      "metadata": {
        "id": "PBh5KHo4nrR1"
      },
      "source": [
        "An anoymous function can be created with a `lambda` expression. Note that a function defined via a lambda expression does not have a return statement. Instead, it contains a single statement (written on the same line) whose evaluated value is used as the return statement. "
      ]
    },
    {
      "cell_type": "code",
      "metadata": {
        "colab": {
          "base_uri": "https://localhost:8080/"
        },
        "id": "xXyrsdHQnudC",
        "outputId": "b2b9d571-4e4f-4df5-a04b-51cdc44af25c"
      },
      "source": [
        "exponential = lambda x, y: x**y\n",
        "exponential(2, 5)"
      ],
      "execution_count": 1,
      "outputs": [
        {
          "output_type": "execute_result",
          "data": {
            "text/plain": [
              "32"
            ]
          },
          "metadata": {
            "tags": []
          },
          "execution_count": 1
        }
      ]
    },
    {
      "cell_type": "markdown",
      "metadata": {
        "id": "66zJkulgoG0X"
      },
      "source": [
        "**Scope** refers to the textual area of a program where a variable can be directly accessed. Using  the keywords `global` or `nonlocal`, it's possible to access variables existing in a different scope. \n"
      ]
    },
    {
      "cell_type": "code",
      "metadata": {
        "id": "Ia08gLwvoMBK"
      },
      "source": [
        "spam = \"global spam\" # global space\n",
        "\n",
        "def scope_test():\n",
        "    def do_local():\n",
        "        spam = \"local spam\"\n",
        "\n",
        "    def do_nonlocal():\n",
        "        nonlocal spam\n",
        "        spam = \"nonlocal spam\"\n",
        "\n",
        "    def do_global():\n",
        "        global spam\n",
        "        spam = \"global spam\"\n",
        "\n",
        "    spam = \"test spam\"\n",
        "    do_local()\n",
        "    print(\"After local assignment:\", spam)\n",
        "    do_nonlocal()\n",
        "    print(\"After nonlocal assignment:\", spam)\n",
        "    do_global()\n",
        "    print(\"After global assignment:\", spam)\n",
        "\n",
        "scope_test()\n",
        "print(\"In global scope:\", spam)\n"
      ],
      "execution_count": null,
      "outputs": []
    },
    {
      "cell_type": "markdown",
      "metadata": {
        "id": "F3o7aRn2orY9"
      },
      "source": [
        "## Flow Control\n",
        "\n",
        "As in most programing languages, Python allows program execution to branch when certain conditions are met, and it also allows arbitrary execution loops.\n"
      ]
    },
    {
      "cell_type": "markdown",
      "metadata": {
        "id": "IskKJsB6o4xE"
      },
      "source": [
        "In Python, *if-then-else* statements are specified using the keywords `if`, `elif` (else if), and `else` (else).  The general form is given below: \n",
        "\n",
        "    if condition1:\n",
        "        do_something\n",
        "    elif condition2:\n",
        "        do_something_else\n",
        "    ...\n",
        "    elif condition_n:\n",
        "        do_something_else\n",
        "    else:\n",
        "        if_all_else_fails_do_this\n",
        "\n",
        "The `elif` and  `else` clauses are optional. There can be many `elif` clauses, but there can be only 1 `else` clause in the `if`-`elif`-`else` sequence."
      ]
    },
    {
      "cell_type": "code",
      "metadata": {
        "id": "DTyj8jhro5Xa"
      },
      "source": [
        "def number_test(x):\n",
        "    if x > 10:\n",
        "        print(\"value \" + str(x) + \" is greater than 10\")\n",
        "    elif x >= 7 and x < 10:\n",
        "        print(\"value \" + str(x) + \" is in range [7,10)\")\n",
        "    elif x >= 5 and x < 7:\n",
        "        print(\"value \" + str(x) + \" is in range [5,7)\")\n",
        "    else:\n",
        "        print(\"value \" + str(x) + \" is less than 5\")\n",
        "\n",
        "number_test(3)\n",
        "number_test(5)\n",
        "number_test(8)\n",
        "number_test(13)"
      ],
      "execution_count": null,
      "outputs": []
    },
    {
      "cell_type": "markdown",
      "metadata": {
        "id": "w2E8fIovo8oy"
      },
      "source": [
        "Python provides both `while` loops and `for` loops.\n",
        "\n",
        "Below is a simple `while` loop. So long as the condition specified evaluates to a value that is equal to `True`, the code in the body of the loop will be executed. As such, without the statement incrementing `i`, the loop would run forever (try it, it's fun!). "
      ]
    },
    {
      "cell_type": "code",
      "metadata": {
        "id": "MhX4aXmSo-V6"
      },
      "source": [
        "string = \"hello world\"\n",
        "length = len(string)\n",
        "i = 0 \n",
        "while i < length:\n",
        "    print(string[i])\n",
        "    i = i + 1 "
      ],
      "execution_count": null,
      "outputs": []
    },
    {
      "cell_type": "markdown",
      "metadata": {
        "id": "Mzxnn1pKpDa8"
      },
      "source": [
        "In Python, `for` statements iterate over sequences and utilize the `in` keyword. "
      ]
    },
    {
      "cell_type": "code",
      "metadata": {
        "colab": {
          "base_uri": "https://localhost:8080/"
        },
        "id": "C4XIEVq9pWBD",
        "outputId": "02a8a80d-b6e6-42b9-b97b-640c43532f60"
      },
      "source": [
        "x = ['Sunday', 'Monday', 'Tuesday', 'Wedensday', 'Thursday', 'Friday', 'Saturday']\n",
        "\n",
        "for i in x:\n",
        "  print(i)"
      ],
      "execution_count": 2,
      "outputs": [
        {
          "output_type": "stream",
          "text": [
            "Sunday\n",
            "Monday\n",
            "Tuesday\n",
            "Wedensday\n",
            "Thursday\n",
            "Friday\n",
            "Saturday\n"
          ],
          "name": "stdout"
        }
      ]
    },
    {
      "cell_type": "markdown",
      "metadata": {
        "id": "YdFFjsM_pn4V"
      },
      "source": [
        "The `range()` function can be used to generate a sequence of numbers, which can then be used in a loop. "
      ]
    },
    {
      "cell_type": "code",
      "metadata": {
        "id": "KuW13o_2pkE8"
      },
      "source": [
        "for x in range(20): # this starts from zero and ends at 20 (exclusive)\n",
        "  print(x)"
      ],
      "execution_count": null,
      "outputs": []
    },
    {
      "cell_type": "code",
      "metadata": {
        "id": "M6BYdfkQpw6G"
      },
      "source": [
        "for x in range(1, 20): # this starts from 1 and ends at 20 (exclusive)\n",
        "  print(x)"
      ],
      "execution_count": null,
      "outputs": []
    },
    {
      "cell_type": "code",
      "metadata": {
        "id": "GsZdS_SVp0PK"
      },
      "source": [
        "for x in range(1, 20, 2): # this starts from 1 and ends at 20 (exclusive), taking two steps at a time\n",
        "  print(x)"
      ],
      "execution_count": null,
      "outputs": []
    }
  ]
}
