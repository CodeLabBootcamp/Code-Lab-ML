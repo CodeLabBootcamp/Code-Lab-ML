{
  "nbformat": 4,
  "nbformat_minor": 0,
  "metadata": {
    "colab": {
      "name": "Evaluation Metrics",
      "provenance": []
    },
    "kernelspec": {
      "name": "python3",
      "display_name": "Python 3"
    }
  },
  "cells": [
    {
      "cell_type": "markdown",
      "metadata": {
        "id": "-mh4fYe9vvuk"
      },
      "source": [
        "# Model Evaluation\n",
        "\n",
        "<!--<badge>--><a href=\"https://colab.research.google.com/github/CodeLabBootcamp/Code-Lab-ML/blob/main/Week 3/2- Evaluation Metrics.ipynb\" target=\"_parent\"><img src=\"https://colab.research.google.com/assets/colab-badge.svg\" alt=\"Open In Colab\"/></a><!--</badge>-->\n"
      ]
    },
    {
      "cell_type": "markdown",
      "metadata": {
        "id": "NrP6gOUsaVsy"
      },
      "source": [
        "## Classifier Evaluation\n",
        "\n",
        "### True Positive (TP) \n",
        "\n",
        "The predicted value matches the actual value\n",
        "The actual value was positive and the model predicted a positive value\n",
        "\n",
        "### True Negative (TN) \n",
        "\n",
        "The predicted value matches the actual value\n",
        "The actual value was negative and the model predicted a negative value\n",
        "\n",
        "### False Positive (FP) \u2013 Type 1 error\n",
        "\n",
        "The predicted value was falsely predicted\n",
        "The actual value was negative but the model predicted a positive value\n",
        "Also known as the Type 1 error\n",
        "\n",
        "### False Negative (FN) \u2013 Type 2 error\n",
        "\n",
        "The predicted value was falsely predicted\n",
        "The actual value was positive but the model predicted a negative value\n",
        "Also known as the Type 2 error\n",
        "\n",
        "### Precision\n",
        "Precision is a good measure to determine, when the costs of False Positive is high. For instance, email spam detection. In email spam detection, a false positive means that an email that is non-spam (actual negative) has been identified as spam (predicted spam). The email user might lose important emails if the precision is not high for the spam detection model.\n",
        "\n",
        "$$Precision = \\dfrac{TP}{TP + FP}$$\n",
        "\n",
        "### Recall\n",
        "Recall shall be the model metric we use to select our best model when there is a high cost associated with False Negative.\n",
        "in sick patient detection. If a sick patient (Actual Positive) goes through the test and predicted as not sick (Predicted Negative). The cost associated with False Negative will be extremely high if the sickness is contagious.\n",
        "\n",
        "$$Recall = \\dfrac{TP}{TP + FN}$$\n",
        "\n",
        "### F1 score\n",
        "F1 Score might be a better measure to use if we need to seek a balance between Precision and Recall AND there is an uneven class distribution (large number of Actual Negatives).\n",
        "\n",
        "$$F1 = 2 \\cdot \\dfrac{Precision \\cdot Recall}{Precision + Recall}$$\n",
        "\n",
        "### Confusion Matrix\n",
        "A Confusion matrix is an N x N matrix used for evaluating the performance of a classification model, where N is the number of target classes. The matrix compares the actual target values with those predicted by the machine learning model. This gives us a holistic view of how well our classification model is performing and what kinds of errors it is making."
      ]
    },
    {
      "cell_type": "code",
      "metadata": {
        "id": "WVfD0etJidZq"
      },
      "source": [
        "from sklearn import linear_model, metrics, datasets, model_selection"
      ],
      "execution_count": 1,
      "outputs": []
    },
    {
      "cell_type": "code",
      "metadata": {
        "id": "1LqNVHlaikt4"
      },
      "source": [
        "x, y = datasets.load_breast_cancer(return_X_y=True)\n",
        "x_train, x_test, y_train, y_test = model_selection.train_test_split(x, y, test_size = 0.1, random_state=42, stratify=y)"
      ],
      "execution_count": 2,
      "outputs": []
    },
    {
      "cell_type": "code",
      "metadata": {
        "colab": {
          "base_uri": "https://localhost:8080/"
        },
        "id": "ti3WlBgD40JL",
        "outputId": "4eeff02c-2a57-4677-bc0a-bcf6ff385736"
      },
      "source": [
        "lgr = linear_model.LogisticRegression(solver='liblinear',random_state=42)\n",
        "lgr.fit(x_train, y_train)"
      ],
      "execution_count": 3,
      "outputs": [
        {
          "output_type": "execute_result",
          "data": {
            "text/plain": [
              "LogisticRegression(C=1.0, class_weight=None, dual=False, fit_intercept=True,\n",
              "                   intercept_scaling=1, l1_ratio=None, max_iter=100,\n",
              "                   multi_class='auto', n_jobs=None, penalty='l2',\n",
              "                   random_state=42, solver='liblinear', tol=0.0001, verbose=0,\n",
              "                   warm_start=False)"
            ]
          },
          "metadata": {
            "tags": []
          },
          "execution_count": 3
        }
      ]
    },
    {
      "cell_type": "code",
      "metadata": {
        "colab": {
          "base_uri": "https://localhost:8080/",
          "height": 453
        },
        "id": "nevs86s-i-t0",
        "outputId": "5bce484c-8289-4652-d4fd-5eff58025937"
      },
      "source": [
        "y_pred = lgr.predict(x_test)\n",
        "print(\"Accuracy Score:\", metrics.accuracy_score(y_test, y_pred))\n",
        "\n",
        "cf_matrix = metrics.confusion_matrix(y_test, y_pred)\n",
        "tp, tn, fp, fn = cf_matrix[1, 1], cf_matrix[0, 0], cf_matrix[0, 1], cf_matrix[1, 0]\n",
        "print(\"True Positive:\", tp)\n",
        "print(\"True Negative:\", tn)\n",
        "print(\"False Positive:\", fp)\n",
        "print(\"False Negative:\", fn)\n",
        "\n",
        "precision1 = metrics.precision_score(y_test, y_pred)\n",
        "precision2 = tp / (tp + fp)\n",
        "\n",
        "print(\"Precision Score:\", precision1)\n",
        "print(\"Precision Score Manual:\", precision2)\n",
        "\n",
        "recall1 = metrics.recall_score(y_test, y_pred)\n",
        "recall2 = tp / (tp + fn)\n",
        "print(\"Recall Score:\", recall1)\n",
        "print(\"Recall Score Manual:\", recall2)\n",
        "\n",
        "\n",
        "metrics.plot_confusion_matrix(lgr, x_test, y_test)"
      ],
      "execution_count": 4,
      "outputs": [
        {
          "output_type": "stream",
          "text": [
            "Accuracy Score: 0.9649122807017544\n",
            "True Positive: 35\n",
            "True Negative: 20\n",
            "False Positive: 1\n",
            "False Negative: 1\n",
            "Precision Score: 0.9722222222222222\n",
            "Precision Score Manual: 0.9722222222222222\n",
            "Recall Score: 0.9722222222222222\n",
            "Recall Score Manual: 0.9722222222222222\n"
          ],
          "name": "stdout"
        },
        {
          "output_type": "execute_result",
          "data": {
            "text/plain": [
              "<sklearn.metrics._plot.confusion_matrix.ConfusionMatrixDisplay at 0x7feff88f4ba8>"
            ]
          },
          "metadata": {
            "tags": []
          },
          "execution_count": 4
        },
        {
          "output_type": "display_data",
          "data": {
            "image/png": "[encoded data removed]",
            "text/plain": [
              "<Figure size 432x288 with 2 Axes>"
            ]
          },
          "metadata": {
            "tags": [],
            "needs_background": "light"
          }
        }
      ]
    },
    {
      "cell_type": "markdown",
      "metadata": {
        "id": "49Zi7e-89fwb"
      },
      "source": [
        "## Regression Metrics\n",
        "\n",
        "### Mean Squared Error\n",
        "\n",
        "MSE is the average of the squared error that is used as the loss function for least squares regression: It is the sum, over all the data points, of the square of the difference between the predicted and actual target variables, divided by the number of data points.\n",
        "\n",
        "$$mse = 1/m \\sum_{i=0}^{m} (\\hat{y_i} - y_i)^2$$\n",
        "\n",
        "Where m is the total number of examples being tested, and $\\hat{y}$ is the predicted label while $y$ is the actual label\n",
        "\n",
        "### Mean Absolute Error\n",
        "\n",
        "MAE is the average of the absolue errors that is used as the loss function for  regression: It is the sum, over all the data points, of the absolute of the difference between the predicted and actual target variables, divided by the number of data points.\n",
        "\n",
        "$$mae = 1/m \\sum_{i=0}^{m} |\\hat{y_i} - y_i|$$\n",
        "\n",
        "Where m is the total number of examples being tested, and $\\hat{y}$ is the predicted label while $y$ is the actual label\n",
        "\n",
        "\n",
        "### $R^2$ score\n",
        "the $R^2$ score varies between 0 and 100%. It is closely related to the MSE .\n",
        "\n",
        "if it is 100%, the two variables are perfectly correlated, i.e., with no variance at all. A low value would show a low level of correlation, meaning a regression model that is not valid, but not in all cases.\n"
      ]
    },
    {
      "cell_type": "code",
      "metadata": {
        "id": "92KHMKxH6n72"
      },
      "source": [
        "x, y = datasets.load_boston(return_X_y=True)\n",
        "x_train, x_test, y_train, y_test = model_selection.train_test_split(x, y, test_size = 0.1, random_state=42)"
      ],
      "execution_count": 5,
      "outputs": []
    },
    {
      "cell_type": "code",
      "metadata": {
        "colab": {
          "base_uri": "https://localhost:8080/"
        },
        "id": "GOOfCGA3nH_e",
        "outputId": "5a1e0ef1-e21e-4c5e-b5ad-d05059ea95e6"
      },
      "source": [
        "lnr = linear_model.LinearRegression()\n",
        "lnr.fit(x_train, y_train)"
      ],
      "execution_count": 6,
      "outputs": [
        {
          "output_type": "execute_result",
          "data": {
            "text/plain": [
              "LinearRegression(copy_X=True, fit_intercept=True, n_jobs=None, normalize=False)"
            ]
          },
          "metadata": {
            "tags": []
          },
          "execution_count": 6
        }
      ]
    },
    {
      "cell_type": "code",
      "metadata": {
        "colab": {
          "base_uri": "https://localhost:8080/"
        },
        "id": "PxpRftWOnMoV",
        "outputId": "9ef31b05-0a80-4240-c858-e56d07006ce5"
      },
      "source": [
        "y_pred = lnr.predict(x_test)\n",
        "print(\"Mean Squared Error:\", metrics.mean_squared_error(y_test, y_pred))\n",
        "print(\"Mean Absolute Error:\", metrics.mean_absolute_error(y_test, y_pred))\n",
        "print(\"R2 Score:\", metrics.r2_score(y_test, y_pred))"
      ],
      "execution_count": 7,
      "outputs": [
        {
          "output_type": "stream",
          "text": [
            "Mean Squared Error: 14.99585287658254\n",
            "Mean Absolute Error: 2.8342104578589455\n",
            "R2 Score: 0.7598135533532491\n"
          ],
          "name": "stdout"
        }
      ]
    }
  ]
}